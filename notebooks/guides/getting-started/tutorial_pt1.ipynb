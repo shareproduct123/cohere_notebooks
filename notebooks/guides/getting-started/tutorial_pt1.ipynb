{
  "cells": [
    {
      "cell_type": "markdown",
      "metadata": {
        "id": "HQL_5twfli0L"
      },
      "source": [
        "<a target=\"_blank\" href=\"https://colab.research.google.com/github/cohere-ai/notebooks/blob/main/notebooks/guides/getting-started/tutorial_pt1.ipynb\">\n",
        "  <img src=\"https://colab.research.google.com/assets/colab-badge.svg\" alt=\"Open In Colab\"/>\n",
        "</a>"
      ]
    },
    {
      "cell_type": "markdown",
      "metadata": {
        "id": "E1qYsdXAli0O"
      },
      "source": [
        "# Cohere Tutorial\n",
        "\n",
        "#### Build your first Cohere application: An onboarding assistant for new hires"
      ]
    },
    {
      "cell_type": "markdown",
      "metadata": {
        "id": "L4eLgy1nli0P"
      },
      "source": [
        "Welcome to the Cohere tutorial – a hands-on introduction to Cohere!\n",
        "\n",
        "In this tutorial, you will learn how to use the Cohere API, specifically three endpoints: Chat, Embed, and Rerank.\n",
        "\n",
        "This tutorial is split over seven parts, with each part focusing on one use case, as follows:\n",
        "\n",
        "- Part 1: Installation and Setup (Pre-requisite)\n",
        "- Part 2: Text Generation\n",
        "- Part 3: Chatbots\n",
        "- Part 4: Semantic Search\n",
        "- Part 5: Reranking\n",
        "- Part 6: Retrieval-Augmented Generation (RAG)\n",
        "- Part 7: Agents with Tool Use\n",
        "\n",
        "You'll learn about these use cases by building an onboarding assistant that helps new hires onboard to a fictitious company called Co1t. The assistant can help write introductions, answer user questions about the company, search for information from e-mails, and create meeting appointments.\n",
        "\n",
        "We recommend that you follow the parts sequentially. However, feel free to skip to specific parts if you want (apart from Part 1, which is a pre-requisite) because each part also works as a standalone tutorial.\n",
        "\n",
        "Total Duration: ~15 minutes"
      ]
    },
    {
      "cell_type": "markdown",
      "metadata": {
        "id": "CGZSmmaDli0S"
      },
      "source": [
        "## Installation and Setup"
      ]
    },
    {
      "cell_type": "markdown",
      "metadata": {
        "id": "fRuvKfZBli0T"
      },
      "source": [
        "The Cohere platform lets developers access large language model (LLM) capabilities with a few lines of code. These LLMs can solve a broad spectrum of natural language use cases, including classification, semantic search, paraphrasing, summarization, and content generation.\n",
        "\n",
        "Cohere's models can be accessed through the playground, SDK, and CLI tool. We support SDKs in four different languages: Python, Typescript, Java, and Go.\n",
        "\n",
        "This tutorial uses the Python SDK and accesses the models through the Cohere platform.\n",
        "\n",
        "To get started, first install the Cohere Python SDK."
      ]
    },
    {
      "cell_type": "code",
      "execution_count": 5,
      "metadata": {
        "colab": {
          "base_uri": "https://localhost:8080/"
        },
        "id": "CdocOJUPli0U",
        "outputId": "e7946eaf-1bc2-48dd-f82e-cd80428988f1"
      },
      "outputs": [
        {
          "output_type": "stream",
          "name": "stdout",
          "text": [
            "Requirement already satisfied: cohere in /usr/local/lib/python3.10/dist-packages (5.12.0)\n",
            "Requirement already satisfied: fastavro<2.0.0,>=1.9.4 in /usr/local/lib/python3.10/dist-packages (from cohere) (1.9.7)\n",
            "Requirement already satisfied: httpx>=0.21.2 in /usr/local/lib/python3.10/dist-packages (from cohere) (0.27.2)\n",
            "Requirement already satisfied: httpx-sse==0.4.0 in /usr/local/lib/python3.10/dist-packages (from cohere) (0.4.0)\n",
            "Requirement already satisfied: parameterized<0.10.0,>=0.9.0 in /usr/local/lib/python3.10/dist-packages (from cohere) (0.9.0)\n",
            "Requirement already satisfied: pydantic>=1.9.2 in /usr/local/lib/python3.10/dist-packages (from cohere) (2.9.2)\n",
            "Requirement already satisfied: pydantic-core<3.0.0,>=2.18.2 in /usr/local/lib/python3.10/dist-packages (from cohere) (2.23.4)\n",
            "Requirement already satisfied: requests<3.0.0,>=2.0.0 in /usr/local/lib/python3.10/dist-packages (from cohere) (2.32.3)\n",
            "Requirement already satisfied: tokenizers<1,>=0.15 in /usr/local/lib/python3.10/dist-packages (from cohere) (0.20.3)\n",
            "Requirement already satisfied: types-requests<3.0.0,>=2.0.0 in /usr/local/lib/python3.10/dist-packages (from cohere) (2.32.0.20241016)\n",
            "Requirement already satisfied: typing_extensions>=4.0.0 in /usr/local/lib/python3.10/dist-packages (from cohere) (4.12.2)\n",
            "Requirement already satisfied: anyio in /usr/local/lib/python3.10/dist-packages (from httpx>=0.21.2->cohere) (3.7.1)\n",
            "Requirement already satisfied: certifi in /usr/local/lib/python3.10/dist-packages (from httpx>=0.21.2->cohere) (2024.8.30)\n",
            "Requirement already satisfied: httpcore==1.* in /usr/local/lib/python3.10/dist-packages (from httpx>=0.21.2->cohere) (1.0.7)\n",
            "Requirement already satisfied: idna in /usr/local/lib/python3.10/dist-packages (from httpx>=0.21.2->cohere) (3.10)\n",
            "Requirement already satisfied: sniffio in /usr/local/lib/python3.10/dist-packages (from httpx>=0.21.2->cohere) (1.3.1)\n",
            "Requirement already satisfied: h11<0.15,>=0.13 in /usr/local/lib/python3.10/dist-packages (from httpcore==1.*->httpx>=0.21.2->cohere) (0.14.0)\n",
            "Requirement already satisfied: annotated-types>=0.6.0 in /usr/local/lib/python3.10/dist-packages (from pydantic>=1.9.2->cohere) (0.7.0)\n",
            "Requirement already satisfied: charset-normalizer<4,>=2 in /usr/local/lib/python3.10/dist-packages (from requests<3.0.0,>=2.0.0->cohere) (3.4.0)\n",
            "Requirement already satisfied: urllib3<3,>=1.21.1 in /usr/local/lib/python3.10/dist-packages (from requests<3.0.0,>=2.0.0->cohere) (2.2.3)\n",
            "Requirement already satisfied: huggingface-hub<1.0,>=0.16.4 in /usr/local/lib/python3.10/dist-packages (from tokenizers<1,>=0.15->cohere) (0.26.2)\n",
            "Requirement already satisfied: filelock in /usr/local/lib/python3.10/dist-packages (from huggingface-hub<1.0,>=0.16.4->tokenizers<1,>=0.15->cohere) (3.16.1)\n",
            "Requirement already satisfied: fsspec>=2023.5.0 in /usr/local/lib/python3.10/dist-packages (from huggingface-hub<1.0,>=0.16.4->tokenizers<1,>=0.15->cohere) (2024.10.0)\n",
            "Requirement already satisfied: packaging>=20.9 in /usr/local/lib/python3.10/dist-packages (from huggingface-hub<1.0,>=0.16.4->tokenizers<1,>=0.15->cohere) (24.2)\n",
            "Requirement already satisfied: pyyaml>=5.1 in /usr/local/lib/python3.10/dist-packages (from huggingface-hub<1.0,>=0.16.4->tokenizers<1,>=0.15->cohere) (6.0.2)\n",
            "Requirement already satisfied: tqdm>=4.42.1 in /usr/local/lib/python3.10/dist-packages (from huggingface-hub<1.0,>=0.16.4->tokenizers<1,>=0.15->cohere) (4.66.6)\n",
            "Requirement already satisfied: exceptiongroup in /usr/local/lib/python3.10/dist-packages (from anyio->httpx>=0.21.2->cohere) (1.2.2)\n"
          ]
        }
      ],
      "source": [
        "! pip install -U cohere"
      ]
    },
    {
      "cell_type": "markdown",
      "metadata": {
        "id": "8uZcvEdLli0W"
      },
      "source": [
        "Next, we'll import the `cohere` library and create a client to be used throughout the examples. We create a client by passing the Cohere API key as an argument. To get an API key, [sign up with Cohere](https://dashboard.cohere.com/welcome/register) and get the API key [from the dashboard](https://dashboard.cohere.com/api-keys)."
      ]
    },
    {
      "cell_type": "code",
      "execution_count": 11,
      "metadata": {
        "colab": {
          "base_uri": "https://localhost:8080/"
        },
        "id": "HfoURY4rli0X",
        "outputId": "203b70d0-4494-4567-a9d1-2ab25cb0a12e"
      },
      "outputs": [
        {
          "output_type": "execute_result",
          "data": {
            "text/plain": [
              "<cohere.client.Client at 0x7e478a967a90>"
            ]
          },
          "metadata": {},
          "execution_count": 11
        }
      ],
      "source": [
        "import cohere\n",
        "\n",
        "co = cohere.Client(api_key=\"1GLAqzgbTVGbUTfUeblk3ByYtQyN0fjvHLbs5fPr\") # Get your API key here: https://dashboard.cohere.com/api-keys\n",
        "co\n",
        "\n",
        "# Tivaly Key: \"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\"   \"RtM9PLbik0060hmsY6hv8pwoVJKBBojafBgvL8x2 \""
      ]
    },
    {
      "cell_type": "markdown",
      "metadata": {
        "id": "j42VMfTPli0Y"
      },
      "source": [
        "# Accessing Cohere from Other Platforms"
      ]
    },
    {
      "cell_type": "markdown",
      "metadata": {
        "id": "QICXw3cvli0Z"
      },
      "source": [
        "The Cohere platform is the fastest way to access Cohere's models and get started.\n",
        "\n",
        "However, if you prefer other options, you can access Cohere's models through other platforms such as Amazon Bedrock, Amazon SageMaker, Azure AI Studio, and Oracle Cloud Infrastructure (OCI) Generative AI Service.\n",
        "\n",
        "Read this documentation on [Cohere SDK cloud platform compatibility](https://docs.cohere.com/docs/cohere-works-everywhere)."
      ]
    },
    {
      "cell_type": "markdown",
      "metadata": {
        "id": "EEX2ygk5li0a"
      },
      "source": [
        "## Amazon Bedrock"
      ]
    },
    {
      "cell_type": "markdown",
      "metadata": {
        "id": "cIT_os85li0a"
      },
      "source": [
        "The following is how you can create a Cohere client on Amazon Bedrock.\n",
        "\n",
        "For further information, read this documentation on [Cohere on Bedrock](https://docs.cohere.com/docs/cohere-on-aws#amazon-bedrock)."
      ]
    },
    {
      "cell_type": "code",
      "execution_count": null,
      "metadata": {
        "id": "FFRrnUpQli0b"
      },
      "outputs": [],
      "source": [
        "import cohere\n",
        "\n",
        "co = cohere.BedrockClient(\n",
        "    aws_region=\"...\",\n",
        "    aws_access_key=\"...\",\n",
        "    aws_secret_key=\"...\",\n",
        "    aws_session_token=\"...\",\n",
        ")"
      ]
    },
    {
      "cell_type": "markdown",
      "metadata": {
        "id": "Je88qqXzli0c"
      },
      "source": [
        "## Amazon SageMaker"
      ]
    },
    {
      "cell_type": "markdown",
      "metadata": {
        "id": "hhQB3Y9xli0c"
      },
      "source": [
        "The following is how you can create a Cohere client on Amazon SageMaker.\n",
        "\n",
        "For further information, read this documentation on [Cohere on SageMaker](https://docs.cohere.com/docs/cohere-on-aws#amazon-sagemaker)."
      ]
    },
    {
      "cell_type": "code",
      "execution_count": null,
      "metadata": {
        "id": "liw5vCcXli0d"
      },
      "outputs": [],
      "source": [
        "import cohere\n",
        "\n",
        "co = cohere.SagemakerClient(\n",
        "    aws_region=\"us-east-1\",\n",
        "    aws_access_key=\"...\",\n",
        "    aws_secret_key=\"...\",\n",
        "    aws_session_token=\"...\",\n",
        ")"
      ]
    },
    {
      "cell_type": "markdown",
      "metadata": {
        "id": "JYWtPcQpli0d"
      },
      "source": [
        "## Microsoft Azure"
      ]
    },
    {
      "cell_type": "markdown",
      "metadata": {
        "id": "DcFEUOxcli0e"
      },
      "source": [
        "The following is how you can create a Cohere client on Microsoft Azure.\n",
        "\n",
        "For further information, read this documentation on [Cohere on Azure](https://docs.cohere.com/docs/cohere-on-microsoft-azure)."
      ]
    },
    {
      "cell_type": "code",
      "execution_count": null,
      "metadata": {
        "id": "HKOpCsRMli0e"
      },
      "outputs": [],
      "source": [
        "import cohere\n",
        "\n",
        "co = cohere.Client(\n",
        "  api_key=\"...\",\n",
        "  base_url=\"...\",\n",
        ")"
      ]
    },
    {
      "cell_type": "markdown",
      "metadata": {
        "id": "C_Fo7_ppli0f"
      },
      "source": [
        "In Part 2, we'll get started with the first use case - text generation."
      ]
    },
    {
      "cell_type": "markdown",
      "source": [],
      "metadata": {
        "id": "4n3_BxTCzy1l"
      }
    },
    {
      "cell_type": "markdown",
      "metadata": {
        "id": "ASnI8nxyzBi4"
      },
      "source": [
        "# Text Generation"
      ]
    },
    {
      "cell_type": "markdown",
      "metadata": {
        "id": "PYku-iF2zBi5"
      },
      "source": [
        "Command is Cohere’s flagship LLM. It generates a response based on a user message or prompt. It is trained to follow user commands and to be instantly useful in practical business applications, like summarization, copywriting, extraction, and question-answering.\n",
        "\n",
        "Command R and Command R+ are the most recent models in the Command family. They are the market-leading models that balance high efficiency with strong accuracy to enable enterprises to move from proof of concept into production-grade AI.\n",
        "\n",
        "You'll use Chat, the Cohere endpoint for accessing the Command models.\n",
        "\n",
        "In this tutorial, you'll learn about:\n",
        "- Basic text generation\n",
        "- Prompt engineering\n",
        "- Parameters for controlling output\n",
        "- Structured output generation\n",
        "- Streamed output\n",
        "\n",
        "You'll learn these by building an onboarding assistant for new hires."
      ]
    },
    {
      "cell_type": "markdown",
      "metadata": {
        "id": "uA6u001LzBi7"
      },
      "source": [
        "## Basic text generation"
      ]
    },
    {
      "cell_type": "markdown",
      "metadata": {
        "id": "t-dSAHQXzBi8"
      },
      "source": [
        "To get started with Chat, we need to pass two parameters, `model` for the LLM model ID and `messages`, which we add a single user message. We then call the Chat endpoint through the client we created earlier.\n",
        "\n",
        "The response contains several objects. For simplicity, what we want right now is the `message.content[0].text` object.\n",
        "\n",
        "Here's an example of the assistant responding to a new hire's query asking for help to make introductions."
      ]
    },
    {
      "cell_type": "code",
      "execution_count": 13,
      "metadata": {
        "id": "fgZnpGwQzBi9",
        "outputId": "00ec6a87-c54a-4b52-be10-def77f75b8cc",
        "colab": {
          "base_uri": "https://localhost:8080/",
          "height": 732
        }
      },
      "outputs": [
        {
          "output_type": "stream",
          "name": "stdout",
          "text": [
            "Requirement already satisfied: cohere in /usr/local/lib/python3.10/dist-packages (5.12.0)\n",
            "Requirement already satisfied: fastavro<2.0.0,>=1.9.4 in /usr/local/lib/python3.10/dist-packages (from cohere) (1.9.7)\n",
            "Requirement already satisfied: httpx>=0.21.2 in /usr/local/lib/python3.10/dist-packages (from cohere) (0.27.2)\n",
            "Requirement already satisfied: httpx-sse==0.4.0 in /usr/local/lib/python3.10/dist-packages (from cohere) (0.4.0)\n",
            "Requirement already satisfied: parameterized<0.10.0,>=0.9.0 in /usr/local/lib/python3.10/dist-packages (from cohere) (0.9.0)\n",
            "Requirement already satisfied: pydantic>=1.9.2 in /usr/local/lib/python3.10/dist-packages (from cohere) (2.9.2)\n",
            "Requirement already satisfied: pydantic-core<3.0.0,>=2.18.2 in /usr/local/lib/python3.10/dist-packages (from cohere) (2.23.4)\n",
            "Requirement already satisfied: requests<3.0.0,>=2.0.0 in /usr/local/lib/python3.10/dist-packages (from cohere) (2.32.3)\n",
            "Requirement already satisfied: tokenizers<1,>=0.15 in /usr/local/lib/python3.10/dist-packages (from cohere) (0.20.3)\n",
            "Requirement already satisfied: types-requests<3.0.0,>=2.0.0 in /usr/local/lib/python3.10/dist-packages (from cohere) (2.32.0.20241016)\n",
            "Requirement already satisfied: typing_extensions>=4.0.0 in /usr/local/lib/python3.10/dist-packages (from cohere) (4.12.2)\n",
            "Requirement already satisfied: anyio in /usr/local/lib/python3.10/dist-packages (from httpx>=0.21.2->cohere) (3.7.1)\n",
            "Requirement already satisfied: certifi in /usr/local/lib/python3.10/dist-packages (from httpx>=0.21.2->cohere) (2024.8.30)\n",
            "Requirement already satisfied: httpcore==1.* in /usr/local/lib/python3.10/dist-packages (from httpx>=0.21.2->cohere) (1.0.7)\n",
            "Requirement already satisfied: idna in /usr/local/lib/python3.10/dist-packages (from httpx>=0.21.2->cohere) (3.10)\n",
            "Requirement already satisfied: sniffio in /usr/local/lib/python3.10/dist-packages (from httpx>=0.21.2->cohere) (1.3.1)\n",
            "Requirement already satisfied: h11<0.15,>=0.13 in /usr/local/lib/python3.10/dist-packages (from httpcore==1.*->httpx>=0.21.2->cohere) (0.14.0)\n",
            "Requirement already satisfied: annotated-types>=0.6.0 in /usr/local/lib/python3.10/dist-packages (from pydantic>=1.9.2->cohere) (0.7.0)\n",
            "Requirement already satisfied: charset-normalizer<4,>=2 in /usr/local/lib/python3.10/dist-packages (from requests<3.0.0,>=2.0.0->cohere) (3.4.0)\n",
            "Requirement already satisfied: urllib3<3,>=1.21.1 in /usr/local/lib/python3.10/dist-packages (from requests<3.0.0,>=2.0.0->cohere) (2.2.3)\n",
            "Requirement already satisfied: huggingface-hub<1.0,>=0.16.4 in /usr/local/lib/python3.10/dist-packages (from tokenizers<1,>=0.15->cohere) (0.26.2)\n",
            "Requirement already satisfied: filelock in /usr/local/lib/python3.10/dist-packages (from huggingface-hub<1.0,>=0.16.4->tokenizers<1,>=0.15->cohere) (3.16.1)\n",
            "Requirement already satisfied: fsspec>=2023.5.0 in /usr/local/lib/python3.10/dist-packages (from huggingface-hub<1.0,>=0.16.4->tokenizers<1,>=0.15->cohere) (2024.10.0)\n",
            "Requirement already satisfied: packaging>=20.9 in /usr/local/lib/python3.10/dist-packages (from huggingface-hub<1.0,>=0.16.4->tokenizers<1,>=0.15->cohere) (24.2)\n",
            "Requirement already satisfied: pyyaml>=5.1 in /usr/local/lib/python3.10/dist-packages (from huggingface-hub<1.0,>=0.16.4->tokenizers<1,>=0.15->cohere) (6.0.2)\n",
            "Requirement already satisfied: tqdm>=4.42.1 in /usr/local/lib/python3.10/dist-packages (from huggingface-hub<1.0,>=0.16.4->tokenizers<1,>=0.15->cohere) (4.66.6)\n",
            "Requirement already satisfied: exceptiongroup in /usr/local/lib/python3.10/dist-packages (from anyio->httpx>=0.21.2->cohere) (1.2.2)\n",
            "Hi everyone!\n",
            "\n",
            "My name is [Your Name], and I am thrilled to join the Co1t team today as a new member. I am excited to be part of this amazing startup and contribute to its success. With my background in [Your expertise or previous experience], I hope to bring valuable skills and fresh perspectives to the table.\n",
            "\n",
            "I look forward to getting to know each of you and working together to achieve our goals. Let's collaborate, learn from each other, and make Co1t an incredible journey. If you have any tips or insights to help me get started, please don't hesitate to share!\n",
            "\n",
            "Here's to a great start and a productive time ahead!\n",
            "\n",
            "Cheers,\n",
            "[Your Name]\n"
          ]
        },
        {
          "output_type": "execute_result",
          "data": {
            "text/plain": [
              "'\\n# Add the user message\\nmessage = \"I\\'m joining a new startup called Co1t today. Could you help me write a short introduction message to my teammates.\"\\n\\n# Generate the response\\nresponse = co.chat(model=\"command-r-plus-08-2024\",\\n                   messages=[{\"role\": \"user\", \"content\": message}])\\n                #    messages=[cohere.UserMessage(content=message)])\\n\\nprint(response.message.content[0].text)\\n'"
            ],
            "application/vnd.google.colaboratory.intrinsic+json": {
              "type": "string"
            }
          },
          "metadata": {},
          "execution_count": 13
        }
      ],
      "source": [
        "\n",
        "!pip install cohere --upgrade # Upgrade to the latest version of cohere\n",
        "\n",
        "import cohere\n",
        "\n",
        "# Add the user message\n",
        "message = \"I'm joining a new startup called Co1t today. Could you help me write a short introduction message to my teammates.\"\n",
        "\n",
        "# Generate the response\n",
        "# Use generate with prompt instead of chat with messages\n",
        "response = co.generate(\n",
        "    model=\"command-r-plus-08-2024\",\n",
        "    prompt=message,\n",
        "    max_tokens=200, # adjust as needed\n",
        ")\n",
        "\n",
        "print(response.generations[0].text)\n",
        "\n",
        "'''\n",
        "# Add the user message\n",
        "message = \"I'm joining a new startup called Co1t today. Could you help me write a short introduction message to my teammates.\"\n",
        "\n",
        "# Generate the response\n",
        "response = co.chat(model=\"command-r-plus-08-2024\",\n",
        "                   messages=[{\"role\": \"user\", \"content\": message}])\n",
        "                #    messages=[cohere.UserMessage(content=message)])\n",
        "\n",
        "print(response.message.content[0].text)\n",
        "'''"
      ]
    },
    {
      "cell_type": "markdown",
      "metadata": {
        "id": "83bmxRJbzBi-"
      },
      "source": [
        "Further reading:\n",
        "- [Chat endpoint API reference](https://docs.cohere.com/v2/reference/chat)\n",
        "- [Documentation on Chat fine-tuning](https://docs.cohere.com/docs/chat-fine-tuning)\n",
        "- [Documentation on Command R+](https://docs.cohere.com/docs/command-r-plus)\n",
        "- [LLM University module on text generation](https://cohere.com/llmu#text-generation)\n"
      ]
    },
    {
      "cell_type": "markdown",
      "metadata": {
        "id": "gj2XwYl0zBi_"
      },
      "source": [
        "## Prompt engineering"
      ]
    },
    {
      "cell_type": "markdown",
      "metadata": {
        "id": "pgIH7yS7zBi_"
      },
      "source": [
        "Prompting is at the heart of working with LLMs. The prompt provides context for the text that we want the model to generate. The prompts we create can be anything from simple instructions to more complex pieces of text, and they are used to encourage the model to produce a specific type of output.\n",
        "\n",
        "In this section, we'll look at a couple of prompting techniques.\n",
        "\n",
        "The first is to add more specific instructions to the prompt. The more instructions you provide in the prompt, the closer you can get to the response you need.\n",
        "\n",
        "The limit of how long a prompt can be is dependent on the maximum context length that a model can support (in the case Command R/R+, it's 128k tokens).\n",
        "\n",
        "Below, we'll add one additional instruction to the earlier prompt: the length we need the response to be."
      ]
    },
    {
      "cell_type": "code",
      "execution_count": 14,
      "metadata": {
        "id": "B0qyS-1SzBjA",
        "outputId": "06231276-8e2c-402c-ba87-c523498da769",
        "colab": {
          "base_uri": "https://localhost:8080/",
          "height": 356
        }
      },
      "outputs": [
        {
          "output_type": "error",
          "ename": "TypeError",
          "evalue": "BaseCohere.chat() got an unexpected keyword argument 'messages'",
          "traceback": [
            "\u001b[0;31m---------------------------------------------------------------------------\u001b[0m",
            "\u001b[0;31mTypeError\u001b[0m                                 Traceback (most recent call last)",
            "\u001b[0;32m<ipython-input-14-32ab747e87a6>\u001b[0m in \u001b[0;36m<cell line: 5>\u001b[0;34m()\u001b[0m\n\u001b[1;32m      3\u001b[0m \u001b[0;34m\u001b[0m\u001b[0m\n\u001b[1;32m      4\u001b[0m \u001b[0;31m# Generate the response\u001b[0m\u001b[0;34m\u001b[0m\u001b[0;34m\u001b[0m\u001b[0m\n\u001b[0;32m----> 5\u001b[0;31m response = co.chat(model=\"command-r-plus-08-2024\",\n\u001b[0m\u001b[1;32m      6\u001b[0m                    messages=[{\"role\": \"user\", \"content\": message}])\n\u001b[1;32m      7\u001b[0m                 \u001b[0;31m#    messages=[cohere.UserMessage(content=message)])\u001b[0m\u001b[0;34m\u001b[0m\u001b[0;34m\u001b[0m\u001b[0m\n",
            "\u001b[0;32m/usr/local/lib/python3.10/dist-packages/cohere/client.py\u001b[0m in \u001b[0;36m_wrapped\u001b[0;34m(*args, **kwargs)\u001b[0m\n\u001b[1;32m    101\u001b[0m                 \u001b[0;34m\"To suppress this warning, set `log_warning_experimental_features=False` when initializing the client.\"\u001b[0m\u001b[0;34m\u001b[0m\u001b[0;34m\u001b[0m\u001b[0m\n\u001b[1;32m    102\u001b[0m             )\n\u001b[0;32m--> 103\u001b[0;31m         \u001b[0;32mreturn\u001b[0m \u001b[0mfunc\u001b[0m\u001b[0;34m(\u001b[0m\u001b[0;34m*\u001b[0m\u001b[0margs\u001b[0m\u001b[0;34m,\u001b[0m \u001b[0;34m**\u001b[0m\u001b[0mkwargs\u001b[0m\u001b[0;34m)\u001b[0m\u001b[0;34m\u001b[0m\u001b[0;34m\u001b[0m\u001b[0m\n\u001b[0m\u001b[1;32m    104\u001b[0m \u001b[0;34m\u001b[0m\u001b[0m\n\u001b[1;32m    105\u001b[0m     \u001b[0;32masync\u001b[0m \u001b[0;32mdef\u001b[0m \u001b[0m_async_wrapped\u001b[0m\u001b[0;34m(\u001b[0m\u001b[0;34m*\u001b[0m\u001b[0margs\u001b[0m\u001b[0;34m,\u001b[0m \u001b[0;34m**\u001b[0m\u001b[0mkwargs\u001b[0m\u001b[0;34m)\u001b[0m\u001b[0;34m:\u001b[0m\u001b[0;34m\u001b[0m\u001b[0;34m\u001b[0m\u001b[0m\n",
            "\u001b[0;32m/usr/local/lib/python3.10/dist-packages/cohere/client.py\u001b[0m in \u001b[0;36m_wrapped\u001b[0;34m(*args, **kwargs)\u001b[0m\n\u001b[1;32m     33\u001b[0m     \u001b[0;32mdef\u001b[0m \u001b[0m_wrapped\u001b[0m\u001b[0;34m(\u001b[0m\u001b[0;34m*\u001b[0m\u001b[0margs\u001b[0m\u001b[0;34m:\u001b[0m \u001b[0mtyping\u001b[0m\u001b[0;34m.\u001b[0m\u001b[0mAny\u001b[0m\u001b[0;34m,\u001b[0m \u001b[0;34m**\u001b[0m\u001b[0mkwargs\u001b[0m\u001b[0;34m:\u001b[0m \u001b[0mtyping\u001b[0m\u001b[0;34m.\u001b[0m\u001b[0mAny\u001b[0m\u001b[0;34m)\u001b[0m \u001b[0;34m->\u001b[0m \u001b[0mtyping\u001b[0m\u001b[0;34m.\u001b[0m\u001b[0mAny\u001b[0m\u001b[0;34m:\u001b[0m\u001b[0;34m\u001b[0m\u001b[0;34m\u001b[0m\u001b[0m\n\u001b[1;32m     34\u001b[0m         \u001b[0mcheck_fn\u001b[0m\u001b[0;34m(\u001b[0m\u001b[0;34m*\u001b[0m\u001b[0margs\u001b[0m\u001b[0;34m,\u001b[0m \u001b[0;34m**\u001b[0m\u001b[0mkwargs\u001b[0m\u001b[0;34m)\u001b[0m\u001b[0;34m\u001b[0m\u001b[0;34m\u001b[0m\u001b[0m\n\u001b[0;32m---> 35\u001b[0;31m         \u001b[0;32mreturn\u001b[0m \u001b[0mmethod\u001b[0m\u001b[0;34m(\u001b[0m\u001b[0;34m*\u001b[0m\u001b[0margs\u001b[0m\u001b[0;34m,\u001b[0m \u001b[0;34m**\u001b[0m\u001b[0mkwargs\u001b[0m\u001b[0;34m)\u001b[0m\u001b[0;34m\u001b[0m\u001b[0;34m\u001b[0m\u001b[0m\n\u001b[0m\u001b[1;32m     36\u001b[0m \u001b[0;34m\u001b[0m\u001b[0m\n\u001b[1;32m     37\u001b[0m     \u001b[0;32masync\u001b[0m \u001b[0;32mdef\u001b[0m \u001b[0m_async_wrapped\u001b[0m\u001b[0;34m(\u001b[0m\u001b[0;34m*\u001b[0m\u001b[0margs\u001b[0m\u001b[0;34m:\u001b[0m \u001b[0mtyping\u001b[0m\u001b[0;34m.\u001b[0m\u001b[0mAny\u001b[0m\u001b[0;34m,\u001b[0m \u001b[0;34m**\u001b[0m\u001b[0mkwargs\u001b[0m\u001b[0;34m:\u001b[0m \u001b[0mtyping\u001b[0m\u001b[0;34m.\u001b[0m\u001b[0mAny\u001b[0m\u001b[0;34m)\u001b[0m \u001b[0;34m->\u001b[0m \u001b[0mtyping\u001b[0m\u001b[0;34m.\u001b[0m\u001b[0mAny\u001b[0m\u001b[0;34m:\u001b[0m\u001b[0;34m\u001b[0m\u001b[0;34m\u001b[0m\u001b[0m\n",
            "\u001b[0;31mTypeError\u001b[0m: BaseCohere.chat() got an unexpected keyword argument 'messages'"
          ]
        }
      ],
      "source": [
        "# Add the user message\n",
        "message = \"I'm joining a new startup called Co1t today. Could you help me write a one-sentence introduction message to my teammates.\"\n",
        "\n",
        "# Generate the response\n",
        "response = co.chat(model=\"command-r-plus-08-2024\",\n",
        "                   messages=[{\"role\": \"user\", \"content\": message}])\n",
        "                #    messages=[cohere.UserMessage(content=message)])\n",
        "\n",
        "print(response.message.content[0].text)"
      ]
    },
    {
      "cell_type": "markdown",
      "metadata": {
        "id": "jMquY0HozBjA"
      },
      "source": [
        "All our prompts so far use what is called zero-shot prompting, which means that provide instruction without any example. But in many cases, it is extremely helpful to provide examples to the model to guide its response. This is called few-shot prompting.\n",
        "\n",
        "Few-shot prompting is especially useful when we want the model response to follow a particular style or format. Also, it is sometimes hard to explain what you want in an instruction, and easier to show examples.\n",
        "\n",
        "Below, we want the response to be similar in style and length to the convention, as we show in the examples."
      ]
    },
    {
      "cell_type": "code",
      "execution_count": null,
      "metadata": {
        "id": "94GRxgqPzBjA",
        "outputId": "ffa632e7-db9c-40c5-b89c-434b921e56fc"
      },
      "outputs": [
        {
          "name": "stdout",
          "output_type": "stream",
          "text": [
            "Ticket title: \"Server Access Permissions Issue\"\n"
          ]
        }
      ],
      "source": [
        "# Add the user message\n",
        "user_input = \"Why can't I access the server? Is it a permissions issue?\"\n",
        "\n",
        "# Create a prompt containing example outputs\n",
        "message=f\"\"\"Write a ticket title for the following user request:\n",
        "\n",
        "User request: Where are the usual storage places for project files?\n",
        "Ticket title: Project File Storage Location\n",
        "\n",
        "User request: Emails won't send. What could be the issue?\n",
        "Ticket title: Email Sending Issues\n",
        "\n",
        "User request: How can I set up a connection to the office printer?\n",
        "Ticket title: Printer Connection Setup\n",
        "\n",
        "User request: {user_input}\n",
        "Ticket title:\"\"\"\n",
        "\n",
        "# Generate the response\n",
        "response = co.chat(model=\"command-r-plus-08-2024\",\n",
        "                   messages=[{\"role\": \"user\", \"content\": message}])\n",
        "\n",
        "print(response.message.content[0].text)"
      ]
    },
    {
      "cell_type": "markdown",
      "metadata": {
        "id": "X2xuw9BOzBjB"
      },
      "source": [
        "Further reading:\n",
        "- [Documentation on prompt engineering](https://docs.cohere.com/docs/crafting-effective-prompts)\n",
        "- [LLM University module on prompt engineering](https://cohere.com/llmu#prompt-engineering)"
      ]
    },
    {
      "cell_type": "markdown",
      "metadata": {
        "id": "_vq6rX2yzBjB"
      },
      "source": [
        "## Parameters for controlling output"
      ]
    },
    {
      "cell_type": "markdown",
      "metadata": {
        "id": "X3sZhB-izBjB"
      },
      "source": [
        "The Chat endpoint provides developers with an array of options and parameters.\n",
        "\n",
        "For example, you can choose from several variations of the Command model. Different models produce different output profiles, such as quality and latency."
      ]
    },
    {
      "cell_type": "code",
      "execution_count": null,
      "metadata": {
        "id": "ujP1lLfGzBjC",
        "outputId": "87c1d531-deb3-49aa-bddf-563820ed5734"
      },
      "outputs": [
        {
          "name": "stdout",
          "output_type": "stream",
          "text": [
            "\"Hi, I'm [Your Name] and I'm thrilled to join the Co1t team today as a [Your Role], eager to contribute my skills and ideas to help drive innovation and success for our startup!\"\n"
          ]
        }
      ],
      "source": [
        "# Add the user message\n",
        "message = \"I'm joining a new startup called Co1t today. Could you help me write a one-sentence introduction message to my teammates.\"\n",
        "\n",
        "# Generate the response\n",
        "response = co.chat(model=\"command-r-plus-08-2024\",\n",
        "                   messages=[{\"role\": \"user\", \"content\": message}])\n",
        "\n",
        "print(response.message.content[0].text)"
      ]
    },
    {
      "cell_type": "markdown",
      "metadata": {
        "id": "GNM7qZzfzBjC"
      },
      "source": [
        "Often, you’ll need to control the level of randomness of the output. You can control this using a few parameters.\n",
        "\n",
        "The most commonly used parameter is `temperature`, which is a number used to tune the degree of randomness. You can enter values between 0.0 to 1.0.\n",
        "\n",
        "A lower temperature gives more predictable outputs, and a higher temperature gives more \"creative\" outputs.\n",
        "\n",
        "Here's an example of setting `temperature` to 0."
      ]
    },
    {
      "cell_type": "code",
      "execution_count": null,
      "metadata": {
        "id": "c7pZd29UzBjD",
        "outputId": "8d102bee-eb2a-47ac-f712-93269adfdef7"
      },
      "outputs": [
        {
          "name": "stdout",
          "output_type": "stream",
          "text": [
            "1: \"Revolution Enthusiast\"\n",
            "\n",
            "2: \"Revolution Enthusiast\"\n",
            "\n",
            "3: \"Revolution Enthusiast\"\n",
            "\n"
          ]
        }
      ],
      "source": [
        "# Add the user message\n",
        "message = \"I like learning about the industrial revolution and how it shapes the modern world. How I can introduce myself in five words or less.\"\n",
        "\n",
        "# Generate the response multiple times by specifying a low temperature value\n",
        "for idx in range(3):\n",
        "    response = co.chat(model=\"command-r-plus-08-2024\",\n",
        "                    messages=[{\"role\": \"user\", \"content\": message}],\n",
        "                    temperature=0)\n",
        "\n",
        "    print(f\"{idx+1}: {response.message.content[0].text}\\n\")"
      ]
    },
    {
      "cell_type": "markdown",
      "metadata": {
        "id": "dZNqIc5KzBjD"
      },
      "source": [
        "And here's an example of setting `temperature` to 1."
      ]
    },
    {
      "cell_type": "code",
      "execution_count": null,
      "metadata": {
        "id": "9WDw9K15zBjD",
        "outputId": "fc5f4750-d1d6-4e9d-aa32-9c62d756c57e"
      },
      "outputs": [
        {
          "name": "stdout",
          "output_type": "stream",
          "text": [
            "1: Here is a suggestion: \n",
            "\n",
            "\"Revolution Enthusiast. History Fan.\" \n",
            "\n",
            "This introduction highlights your passion for the industrial revolution and its impact on history while keeping within the word limit.\n",
            "\n",
            "2: \"Revolution fan.\"\n",
            "\n",
            "3: \"IR enthusiast.\"\n",
            "\n"
          ]
        }
      ],
      "source": [
        "# Add the user message\n",
        "message = \"I like learning about the industrial revolution and how it shapes the modern world. How I can introduce myself in five words or less.\"\n",
        "\n",
        "# Generate the response multiple times by specifying a low temperature value\n",
        "for idx in range(3):\n",
        "    response = co.chat(model=\"command-r-plus-08-2024\",\n",
        "                    messages=[{\"role\": \"user\", \"content\": message}],\n",
        "                    temperature=1)\n",
        "\n",
        "    print(f\"{idx+1}: {response.message.content[0].text}\\n\")"
      ]
    },
    {
      "cell_type": "markdown",
      "metadata": {
        "id": "Iz2HIJtjzBjE"
      },
      "source": [
        "Further reading:\n",
        "- [Available models for the Chat endpoint](https://docs.cohere.com/docs/models#command)\n",
        "- [Documentation on predictable outputs](https://docs.cohere.com/v2/docs/predictable-outputs)\n",
        "- [Documentation on advanced generation parameters](https://docs.cohere.com/docs/advanced-generation-hyperparameters)\n"
      ]
    },
    {
      "cell_type": "markdown",
      "metadata": {
        "id": "OsHsiBs5zBjE"
      },
      "source": [
        "## Structured output generation"
      ]
    },
    {
      "cell_type": "markdown",
      "metadata": {
        "id": "bUXJltFnzBjE"
      },
      "source": [
        "By adding the `response_format` parameter, you can get the model to generate the output as a JSON object. By generating JSON objects, you can structure and organize the model's responses in a way that can be used in downstream applications.\n",
        "\n",
        "The `response_format` parameter allows you to specify the schema the JSON object must follow. It takes the following parameters:\n",
        "- `message`: The user message\n",
        "- `response_format`: The schema of the JSON object"
      ]
    },
    {
      "cell_type": "code",
      "execution_count": null,
      "metadata": {
        "id": "1DF8Cov0zBjE",
        "outputId": "4dd75ad1-8ebb-490e-99e2-3b7ced5889e2"
      },
      "outputs": [
        {
          "name": "stderr",
          "output_type": "stream",
          "text": [
            "The `response_format.schema` parameter is an experimental feature and may change in future releases.\n",
            "To suppress this warning, set `log_warning_experimental_features=False` when initializing the client.\n"
          ]
        },
        {
          "name": "stdout",
          "output_type": "stream",
          "text": [
            "{'title': 'Unable to Access Server', 'category': 'access', 'status': 'open'}\n"
          ]
        }
      ],
      "source": [
        "# Add the user message\n",
        "user_input = \"Why can't I access the server? Is it a permissions issue?\"\n",
        "message = f\"\"\"Create an IT ticket for the following user request. Generate a JSON object.\n",
        "{user_input}\"\"\"\n",
        "\n",
        "# Generate the response multiple times by adding the JSON schema\n",
        "response = co.chat(\n",
        "  model=\"command-r-plus-08-2024\",\n",
        "  messages=[{\"role\": \"user\", \"content\": message}],\n",
        "  response_format={\n",
        "    \"type\": \"json_object\",\n",
        "    \"schema\": {\n",
        "      \"type\": \"object\",\n",
        "      \"required\": [\"title\", \"category\", \"status\"],\n",
        "      \"properties\": {\n",
        "        \"title\": { \"type\": \"string\"},\n",
        "        \"category\": { \"type\" : \"string\", \"enum\" : [\"access\", \"software\"]},\n",
        "        \"status\": { \"type\" : \"string\" , \"enum\" : [\"open\", \"closed\"]}\n",
        "      }\n",
        "    }\n",
        "  },\n",
        ")\n",
        "\n",
        "json_object = json.loads(response.message.content[0].text)\n",
        "\n",
        "print(json_object)"
      ]
    },
    {
      "cell_type": "markdown",
      "metadata": {
        "id": "HSVLolhxzBjF"
      },
      "source": [
        "Further reading:\n",
        "- [Documentation on Structured Generations (JSON)](https://docs.cohere.com/docs/structured-outputs-json)"
      ]
    },
    {
      "cell_type": "markdown",
      "metadata": {
        "id": "asP_-s0gzBjF"
      },
      "source": [
        "## Streaming responses"
      ]
    },
    {
      "cell_type": "markdown",
      "metadata": {
        "id": "ck446u60zBjF"
      },
      "source": [
        "All the previous examples above generate responses in a non-streamed manner. This means that the endpoint would return a response object only after the model has generated the text in full.\n",
        "\n",
        "The Chat endpoint also provides streaming support. In a streamed response, the endpoint would return a response object for each token as it is being generated. This means you can display the text incrementally without having to wait for the full completion.\n",
        "\n",
        "To activate it, use `co.chat_stream()` instead of `co.chat()`.\n",
        "\n",
        "In streaming mode, the endpoint will generate a series of objects. To get the actual text contents, we take objects whose `event_type` is `content-delta`."
      ]
    },
    {
      "cell_type": "code",
      "execution_count": null,
      "metadata": {
        "id": "p_75TVJ8zBjG",
        "outputId": "2e2024a1-b70e-4517-e7a6-1252931e3d47"
      },
      "outputs": [
        {
          "name": "stdout",
          "output_type": "stream",
          "text": [
            "\"Hi, I'm [Your Name] and I'm thrilled to join the Co1t team today as a [Your Role], passionate about [Your Expertise], and excited to contribute to our shared mission of [Startup's Mission]!\""
          ]
        }
      ],
      "source": [
        "# Add the user message\n",
        "message = \"I'm joining a new startup called Co1t today. Could you help me write a one-sentence introduction message to my teammates.\"\n",
        "\n",
        "# Generate the response by streaming it\n",
        "response = co.chat_stream(model=\"command-r-plus-08-2024\",\n",
        "                          messages=[{\"role\": \"user\", \"content\": message}])\n",
        "\n",
        "for event in response:\n",
        "    if event:\n",
        "        if event.type == \"content-delta\":\n",
        "            print(event.delta.message.content.text, end=\"\")"
      ]
    },
    {
      "cell_type": "markdown",
      "metadata": {
        "id": "oGRQArA8zBjG"
      },
      "source": [
        "Further reading:\n",
        "- [Documentation on streaming responses](https://docs.cohere.com/docs/streaming)"
      ]
    },
    {
      "cell_type": "markdown",
      "metadata": {
        "id": "Zup-owALzBjG"
      },
      "source": [
        "## Conclusion"
      ]
    },
    {
      "cell_type": "markdown",
      "metadata": {
        "id": "j99KYJjpzBjH"
      },
      "source": [
        "In this tutorial, you learned about:\n",
        "- How to get started with a basic text generation\n",
        "- How to improve outputs with prompt engineering\n",
        "- How to control outputs using parameter changes\n",
        "- How to generate structured outputs\n",
        "- How to stream text generation outputs\n",
        "\n",
        "However, we have only done all this using direct text generations. As its name implies, the Chat endpoint can also support building chatbots, which require features to support multi-turn conversations and maintain the conversation state.\n",
        "\n",
        "In Part 3, you'll learn how to build chatbots with the Chat endpoint."
      ]
    },
    {
      "cell_type": "markdown",
      "metadata": {
        "id": "3KcHVHIe3LPr"
      },
      "source": [
        "# Chatbots"
      ]
    },
    {
      "cell_type": "markdown",
      "metadata": {
        "id": "68h73r-e3LPs"
      },
      "source": [
        "As its name implies, the Chat endpoint enables developers to build chatbots that can handle conversations. At the core of a conversation is a multi-turn dialog between the user and the chatbot. This requires the chatbot to have the state (or “memory”) of all the previous turns to maintain the state of the conversation.\n",
        "\n",
        "In this tutorial, you'll learn about:\n",
        "- Creating a custom preamble\n",
        "- Creating a single-turn conversation\n",
        "- Building the conversation memory\n",
        "- Running a multi-turn conversation\n",
        "- Viewing the chat history\n",
        "\n",
        "You'll learn these by building an onboarding assistant for new hires."
      ]
    },
    {
      "cell_type": "markdown",
      "metadata": {
        "id": "k-fAkglu3LPt"
      },
      "source": [
        "## Setup\n",
        "\n",
        "To get started, first we need to install the `cohere` library and create a Cohere client."
      ]
    },
    {
      "cell_type": "code",
      "execution_count": null,
      "metadata": {
        "id": "mUX86EeZ3LPu"
      },
      "outputs": [],
      "source": [
        "# pip install cohere\n",
        "\n",
        "import cohere\n",
        "\n",
        "co = cohere.ClientV2(api_key\"COHERE_API_KEY\") # Get your free API key: https://dashboard.cohere.com/api-keys"
      ]
    },
    {
      "cell_type": "markdown",
      "metadata": {
        "id": "MZww2nrV3LPu"
      },
      "source": [
        "## Creating a custom preamble"
      ]
    },
    {
      "cell_type": "markdown",
      "metadata": {
        "id": "miC0_ujY3LPv"
      },
      "source": [
        "A conversation starts with a system message, or a preamble, to help steer a chatbot’s response toward certain characteristics.\n",
        "\n",
        "For example, if we want the chatbot to adopt a formal style, the preamble can be used to encourage the generation of more business-like and professional responses.\n",
        "\n",
        "The recommended approach is to use two H2 Markdown headers: \"Task and Context\" and \"Style Guide\" in the exact order.\n",
        "\n",
        "In the example below, the preamble provides context for the assistant's task (task and context) and encourages the generation of rhymes as much as possible (style guide)."
      ]
    },
    {
      "cell_type": "code",
      "execution_count": null,
      "metadata": {
        "id": "7Ht1vgZ_3LPv",
        "outputId": "c6a220f7-5ed7-4c81-989e-4faaa9349674"
      },
      "outputs": [
        {
          "name": "stdout",
          "output_type": "stream",
          "text": [
            "Sure, here's a rhyme to break the ice,\n",
            "A warm welcome to the team, so nice,\n",
            "\n",
            "Hi, I'm [Your Name], a new face,\n",
            "Ready to join the Co1t space,\n",
            "\n",
            "A journey begins, a path unknown,\n",
            "But together we'll make our mark, a foundation stone,\n",
            "\n",
            "Excited to learn and contribute my part,\n",
            "Let's create, innovate, and leave a lasting art,\n",
            "\n",
            "Looking forward to our adventures yet untold,\n",
            "With teamwork and passion, let's achieve our goals!\n",
            "\n",
            "Cheers to a great start!\n",
            "Your enthusiastic new mate.\n"
          ]
        }
      ],
      "source": [
        "# Add the user message\n",
        "message = \"I'm joining a new startup called Co1t today. Could you help me write a short introduction message to my teammates.\"\n",
        "\n",
        "# Create a custom system message\n",
        "system_message=\"\"\"## Task and Context\n",
        "You are an assistant who assist new employees of Co1t with their first week.\n",
        "\n",
        "## Style Guide\n",
        "Try to speak in rhymes as much as possible. Be professional.\"\"\"\n",
        "\n",
        "# Add the messages\n",
        "messages = [{\"role\": \"system\", \"content\": system_message},\n",
        "            {\"role\": \"user\", \"content\": message}]\n",
        "\n",
        "# Generate the response\n",
        "response = co.chat(model=\"command-r-plus-08-2024\",\n",
        "                   messages=messages)\n",
        "\n",
        "print(response.message.content[0].text)"
      ]
    },
    {
      "cell_type": "markdown",
      "metadata": {
        "id": "TVVikeH53LPx"
      },
      "source": [
        "Further reading:\n",
        "- [Documentation on preambles](https://docs.cohere.com/docs/preambles)"
      ]
    },
    {
      "cell_type": "markdown",
      "metadata": {
        "id": "EWkLlYOG3LPx"
      },
      "source": [
        "## Starting the first conversation turn"
      ]
    },
    {
      "cell_type": "markdown",
      "metadata": {
        "id": "FyWtaIaJ3LPy"
      },
      "source": [
        "Let's start with the first conversation turn.\n",
        "\n",
        "Here, we are also adding a custom preamble or system message for generating a concise response, just to keep the outputs brief for this tutorial."
      ]
    },
    {
      "cell_type": "code",
      "execution_count": null,
      "metadata": {
        "id": "np69-EIp3LPy",
        "outputId": "e3c85e2d-b80a-4d0b-be3e-bd60236e3674"
      },
      "outputs": [
        {
          "name": "stdout",
          "output_type": "stream",
          "text": [
            "\"Hello, teammates! I'm thrilled to join the Co1t family today and looking forward to getting to know you all and contributing to our shared success.\"\n"
          ]
        }
      ],
      "source": [
        "# Add the user message\n",
        "message = \"I'm joining a new startup called Co1t today. Could you help me write a short introduction message to my teammates.\"\n",
        "\n",
        "# Create a custom system message\n",
        "system_message=\"\"\"## Task and Context\n",
        "Generate concise responses, with maximum one-sentence.\"\"\"\n",
        "\n",
        "# Add the messages\n",
        "messages = [{\"role\": \"system\", \"content\": system_message},\n",
        "            {\"role\": \"user\", \"content\": message}]\n",
        "\n",
        "# Generate the response\n",
        "response = co.chat(model=\"command-r-plus-08-2024\",\n",
        "                   messages=messages)\n",
        "\n",
        "print(response.message.content[0].text)"
      ]
    },
    {
      "cell_type": "markdown",
      "metadata": {
        "id": "H4i5bJoq3LPz"
      },
      "source": [
        "## Building the conversation memory"
      ]
    },
    {
      "cell_type": "markdown",
      "metadata": {
        "id": "7LGNw4wx3LPz"
      },
      "source": [
        "Now, we want the model to refine the earlier response. This requires the next generation to have access to the state, or memory, of the conversation.\n",
        "\n",
        "To do this, we append the `messages` with the model's previous response using the `assistant` role.\n",
        "\n",
        "Next, we also append a new user message (for the second turn) to the `messages` list.\n",
        "\n",
        "Looking at the response, we see that the model is able to get the context from the chat history. The model is able to capture that \"it\" in the user message refers to the introduction message it had generated earlier."
      ]
    },
    {
      "cell_type": "code",
      "execution_count": null,
      "metadata": {
        "id": "qQpRfkI73LPz",
        "outputId": "794ca2b0-eebe-4904-e2fb-418283827cc2"
      },
      "outputs": [
        {
          "name": "stdout",
          "output_type": "stream",
          "text": [
            "\"Hey, future Co1t buddies! Stoked to join this awesome team, let's get to know each other and make some startup magic together!\"\n"
          ]
        }
      ],
      "source": [
        "# Append the previous response\n",
        "messages.append({'role' : 'assistant', 'content': response.message.content[0].text})\n",
        "\n",
        "# Add the user message\n",
        "message = \"Make it more upbeat and conversational.\"\n",
        "\n",
        "# Append the user message\n",
        "messages.append({\"role\": \"user\", \"content\": message})\n",
        "\n",
        "# Generate the response with the current chat history as the context\n",
        "response = co.chat(model=\"command-r-plus-08-2024\",\n",
        "                   messages=messages)\n",
        "\n",
        "print(response.message.content[0].text)"
      ]
    },
    {
      "cell_type": "markdown",
      "metadata": {
        "id": "qHcz57jn3LP0"
      },
      "source": [
        "Further reading:\n",
        "- [Documentation on using the Chat endpoint](https://docs.cohere.com/docs/chat-api)"
      ]
    },
    {
      "cell_type": "markdown",
      "metadata": {
        "id": "oPEO7Ur73LP0"
      },
      "source": [
        "## Running a multi-turn conversation"
      ]
    },
    {
      "cell_type": "markdown",
      "metadata": {
        "id": "ydLfQvTS3LP0"
      },
      "source": [
        "\n",
        "You can continue doing this for any number of turns by continuing to append the chatbot's response and the new user message to the `messages` list."
      ]
    },
    {
      "cell_type": "code",
      "execution_count": null,
      "metadata": {
        "id": "XooJ9N0Q3LP0",
        "outputId": "b3a57c30-b531-44e4-bc0f-368953f164af"
      },
      "outputs": [
        {
          "name": "stdout",
          "output_type": "stream",
          "text": [
            "\"Hi, boss! So excited to dive into my new role at Co1t and eager to learn from your mentorship and guidance. Let's crush it!\"\n"
          ]
        }
      ],
      "source": [
        "# Append the previous response\n",
        "messages.append({\"role\": \"assistant\", \"content\": response.message.content[0].text})\n",
        "\n",
        "# Add the user message\n",
        "message = \"Thanks. Could you create another one for my DM to my manager.\"\n",
        "\n",
        "# Append the user message\n",
        "messages.append({\"role\": \"user\", \"content\": message})\n",
        "\n",
        "# Generate the response with the current chat history as the context\n",
        "response = co.chat(model=\"command-r-plus-08-2024\",\n",
        "                   messages=messages)\n",
        "\n",
        "print(response.message.content[0].text)"
      ]
    },
    {
      "cell_type": "markdown",
      "metadata": {
        "id": "fCBR22B_3LP0"
      },
      "source": [
        "## Viewing the chat history"
      ]
    },
    {
      "cell_type": "markdown",
      "metadata": {
        "id": "PiBPGFdC3LP1"
      },
      "source": [
        "To look at the current chat history, you can print the `messages` list, which contains a list of `user` and `assistant` turns in the same sequence as they were created."
      ]
    },
    {
      "cell_type": "code",
      "execution_count": null,
      "metadata": {
        "id": "YlA4OuRU3LP1",
        "outputId": "41acdd21-ce2f-4d89-e07a-7f93fdb13759"
      },
      "outputs": [
        {
          "name": "stdout",
          "output_type": "stream",
          "text": [
            "{'role': 'system', 'content': '## Task and Context\\nGenerate concise responses, with maximum one-sentence.'} \n",
            "\n",
            "{'role': 'user', 'content': \"I'm joining a new startup called Co1t today. Could you help me write a short introduction message to my teammates.\"} \n",
            "\n",
            "{'role': 'assistant', 'content': '\"Hello, teammates! I\\'m thrilled to join the Co1t family today and looking forward to getting to know you all and contributing to our shared success.\"'} \n",
            "\n",
            "{'role': 'user', 'content': 'Make it more upbeat and conversational.'} \n",
            "\n",
            "{'role': 'assistant', 'content': '\"Hey, future Co1t buddies! Stoked to join this awesome team, let\\'s get to know each other and make some startup magic together!\"'} \n",
            "\n",
            "{'role': 'user', 'content': 'Thanks. Could you create another one for my DM to my manager.'} \n",
            "\n",
            "{'role': 'assistant', 'content': '\"Hi, boss! So excited to dive into my new role at Co1t and eager to learn from your mentorship and guidance. Let\\'s crush it!\"'} \n",
            "\n"
          ]
        }
      ],
      "source": [
        "# Append the previous response\n",
        "messages.append({\"role\": \"assistant\", \"content\": response.message.content[0].text})\n",
        "\n",
        "# View the chat history\n",
        "for message in messages:\n",
        "    print(message,\"\\n\")"
      ]
    },
    {
      "cell_type": "markdown",
      "metadata": {
        "id": "DtEe-urQ3LP1"
      },
      "source": [
        "## Conclusion"
      ]
    },
    {
      "cell_type": "markdown",
      "metadata": {
        "id": "_UW6hIuW3LP1"
      },
      "source": [
        "In this tutorial, you learned about:\n",
        "- How to create a custom preamble\n",
        "- How to create a single-turn conversation\n",
        "- How to build the conversation memory\n",
        "- How to run a multi-turn conversation\n",
        "- How to view the chat history\n",
        "\n",
        "You will use the same method for running a multi-turn conversation when you learn about other use cases such as RAG (Part 6) and tool use (Part 7).\n",
        "\n",
        "But to fully leverage these other capabilities, you will need another type of language model that generates text representations, or embeddings.\n",
        "\n",
        "In Part 4, you will learn how text embeddings can power an important use case for RAG, which is semantic search."
      ]
    },
    {
      "cell_type": "markdown",
      "metadata": {
        "id": "41cyGH2R3yCj"
      },
      "source": [
        "# Semantic Search"
      ]
    },
    {
      "cell_type": "markdown",
      "metadata": {
        "id": "JOWjBVaX3yCk"
      },
      "source": [
        "Text embeddings are a list of numbers that represent the context or meaning inside a piece of text. This is particularly useful in search or information retrieval applications. With text embeddings, this is called semantic search.\n",
        "\n",
        "Semantic search solves the problem faced by the more traditional approach of lexical search, which is great at finding keyword matches, but struggles to capture the context or meaning of a piece of text.\n",
        "\n",
        "With Cohere, you can generate text embeddings through the Embed endpoint (Embed v3 being the latest model), which supports over 100 languages.\n",
        "\n",
        "In this tutorial, you'll learn about:\n",
        "- Embedding the documents\n",
        "- Embedding the query\n",
        "- Performing semantic search\n",
        "- Multilingual semantic search\n",
        "- Changing embedding compression types\n",
        "\n",
        "You'll learn these by building an onboarding assistant for new hires."
      ]
    },
    {
      "cell_type": "markdown",
      "metadata": {
        "id": "SMtAowgW3yCl"
      },
      "source": [
        "## Setup\n",
        "\n",
        "To get started, first we need to install the `cohere` library and create a Cohere client."
      ]
    },
    {
      "cell_type": "code",
      "execution_count": null,
      "metadata": {
        "id": "VvryZD5Z3yCl"
      },
      "outputs": [],
      "source": [
        "# pip install cohere\n",
        "\n",
        "import cohere\n",
        "import numpy as np\n",
        "\n",
        "co = cohere.ClientV2(api_key=\"COHERE_API_KEY\") # Get your free API key: https://dashboard.cohere.com/api-keys"
      ]
    },
    {
      "cell_type": "markdown",
      "metadata": {
        "id": "VFHpm6j13yCm"
      },
      "source": [
        "## Embedding the documents"
      ]
    },
    {
      "cell_type": "markdown",
      "metadata": {
        "id": "DQW92S3m3yCn"
      },
      "source": [
        "The Embed endpoint takes in texts as input and returns embeddings as output.\n",
        "\n",
        "For semantic search, there are two types of documents we need to turn into embeddings.\n",
        "- The list of documents that we want to search from.\n",
        "- The query that will be used to search the documents.\n",
        "\n",
        "Right now, we are doing the former. We call the Embed endpoint using `co.embed()` and pass the following arguments:\n",
        "- `model`: Here we choose `embed-english-v3.0`, which generates embeddings of size 1024\n",
        "- `input_type`: We choose `search_document` to ensure the model treats these as the documents for search\n",
        "- `texts`: The list of texts (the FAQs)\n",
        "- `embedding_types`: We choose `float` to get the float embeddings."
      ]
    },
    {
      "cell_type": "code",
      "execution_count": null,
      "metadata": {
        "id": "DVsleJHQ3yCo"
      },
      "outputs": [],
      "source": [
        "# Define the documents\n",
        "faqs_long = [\n",
        "    {\"text\": \"Joining Slack Channels: You will receive an invite via email. Be sure to join relevant channels to stay informed and engaged.\"},\n",
        "    {\"text\": \"Finding Coffee Spots: For your caffeine fix, head to the break room's coffee machine or cross the street to the café for artisan coffee.\"},\n",
        "    {\"text\": \"Team-Building Activities: We foster team spirit with monthly outings and weekly game nights. Feel free to suggest new activity ideas anytime!\"},\n",
        "    {\"text\": \"Working Hours Flexibility: We prioritize work-life balance. While our core hours are 9 AM to 5 PM, we offer flexibility to adjust as needed.\"},\n",
        "    {\"text\": \"Side Projects Policy: We encourage you to pursue your passions. Just be mindful of any potential conflicts of interest with our business.\"},\n",
        "    {\"text\": \"Reimbursing Travel Expenses: Easily manage your travel expenses by submitting them through our finance tool. Approvals are prompt and straightforward.\"},\n",
        "    {\"text\": \"Working from Abroad: Working remotely from another country is possible. Simply coordinate with your manager and ensure your availability during core hours.\"},\n",
        "    {\"text\": \"Health and Wellness Benefits: We care about your well-being and offer gym memberships, on-site yoga classes, and comprehensive health insurance.\"},\n",
        "    {\"text\": \"Performance Reviews Frequency: We conduct informal check-ins every quarter and formal performance reviews twice a year.\"},\n",
        "    {\"text\": \"Proposing New Ideas: Innovation is welcomed! Share your brilliant ideas at our weekly team meetings or directly with your team lead.\"},\n",
        "]\n",
        "\n",
        "# Embed the documents\n",
        "doc_emb = co.embed(\n",
        "            model=\"embed-english-v3.0\",\n",
        "            input_type=\"search_document\",\n",
        "            texts=[doc['text'] for doc in faqs_long],\n",
        "            embedding_types=[\"float\"]).embeddings.float"
      ]
    },
    {
      "cell_type": "markdown",
      "metadata": {
        "id": "xwozYZ5X3yCp"
      },
      "source": [
        "Further reading:\n",
        "- [Embed endpoint API reference](https://docs.cohere.com/reference/embed)\n",
        "- [Documentation on the Embed endpoint](https://docs.cohere.com/docs/embeddings)\n",
        "- [Documentation on the models available on the Embed endpoint](https://docs.cohere.com/docs/cohere-embed)\n",
        "- [LLM University module on Text Representation](https://cohere.com/llmu#text-representation)"
      ]
    },
    {
      "cell_type": "markdown",
      "metadata": {
        "id": "Z6ONK9qY3yCp"
      },
      "source": [
        "## Embedding the query"
      ]
    },
    {
      "cell_type": "markdown",
      "metadata": {
        "id": "wy489bsP3yCq"
      },
      "source": [
        "Next, we add a query, which asks about how to stay connected to company updates.\n",
        "\n",
        "We choose `search_query` as the `input_type` to ensure the model treats this as the query (instead of documents) for search."
      ]
    },
    {
      "cell_type": "code",
      "execution_count": null,
      "metadata": {
        "id": "aUM6CUUR3yCq"
      },
      "outputs": [],
      "source": [
        "# Add the user query\n",
        "query = \"Ways to connect with my teammates\"\n",
        "\n",
        "# Embed the query\n",
        "query_emb = co.embed(\n",
        "            model=\"embed-english-v3.0\",\n",
        "            input_type=\"search_query\",\n",
        "            texts=[query],\n",
        "            embedding_types=[\"float\"]).embeddings.float"
      ]
    },
    {
      "cell_type": "markdown",
      "metadata": {
        "id": "u-CdswjF3yCr"
      },
      "source": [
        "## Perfoming semantic search"
      ]
    },
    {
      "cell_type": "markdown",
      "metadata": {
        "id": "VfYl_t8M3yCr"
      },
      "source": [
        "Now, we want to search for the most relevant documents to the query. We do this by computing the similarity between the embeddings of the query and each of the documents.\n",
        "\n",
        "There are various approaches to compute similarity between embeddings, and we'll choose the dot product approach. For this, we use the `numpy` library which comes with the implementation.\n",
        "\n",
        "Each query-document pair returns a score, which represents how similar the pair is. We then sort these scores in descending order and select the top-most similar pairs, which we choose 2 (this is an arbitrary choice, you can choose any number).\n",
        "\n",
        "Here, we show the most relevant documents with their similarity scores."
      ]
    },
    {
      "cell_type": "code",
      "execution_count": null,
      "metadata": {
        "id": "6srXMB3e3yCs",
        "outputId": "2afceb5b-55e4-4da5-b4d8-c51ba61c4263"
      },
      "outputs": [
        {
          "name": "stdout",
          "output_type": "stream",
          "text": [
            "Rank: 1\n",
            "Score: 0.3872984617627964\n",
            "Document: {'text': 'Team-Building Activities: We foster team spirit with monthly outings and weekly game nights. Feel free to suggest new activity ideas anytime!'}\n",
            "\n",
            "Rank: 2\n",
            "Score: 0.3272549670724577\n",
            "Document: {'text': 'Proposing New Ideas: Innovation is welcomed! Share your brilliant ideas at our weekly team meetings or directly with your team lead.'}\n",
            "\n"
          ]
        }
      ],
      "source": [
        "# Compute dot product similarity and display results\n",
        "def return_results(query_emb, doc_emb, documents):\n",
        "    n = 2 # customize your top N results\n",
        "    scores = np.dot(query_emb, np.transpose(doc_emb))[0]\n",
        "    max_idx = np.argsort(-scores)[:n]\n",
        "\n",
        "    for rank, idx in enumerate(max_idx):\n",
        "        print(f\"Rank: {rank+1}\")\n",
        "        print(f\"Score: {scores[idx]}\")\n",
        "        print(f\"Document: {documents[idx]}\\n\")\n",
        "\n",
        "return_results(query_emb, doc_emb, faqs_long)"
      ]
    },
    {
      "cell_type": "markdown",
      "metadata": {
        "id": "Vi45Z_Xe3yCs"
      },
      "source": [
        "## Multilingual semantic search"
      ]
    },
    {
      "cell_type": "markdown",
      "metadata": {
        "id": "qSRnMQ3a3yCs"
      },
      "source": [
        "The Embed endpoint also supports multilingual semantic search via the `embed-multilingual-...` models. This means you can perform semantic search on texts in different languages.\n",
        "\n",
        "Specifically, you can do both multilingual and cross-lingual searches using one single model.\n",
        "\n",
        "Multilingual search happens when the query and the result are of the same language. For example, an English query of “places to eat” returning an English result of “Bob's Burgers.” You can replace English with other languages and use the same model for performing search.\n",
        "\n",
        "Cross-lingual search happens when the query and the result are of a different language. For example, a Hindi query of “खाने की जगह” (places to eat) returning an English result of “Bob's Burgers.”\n",
        "\n",
        "In the example below, we repeat the steps of performing semantic search with one difference – changing the model type to the multilingual version. Here, we use the `embed-multilingual-v3.0` model. Here, we are searching a French version of the FAQ list using an English query."
      ]
    },
    {
      "cell_type": "code",
      "execution_count": null,
      "metadata": {
        "id": "q-UHkbke3yCt",
        "outputId": "71490846-b290-4e21-8c26-25e774c2f002"
      },
      "outputs": [
        {
          "name": "stdout",
          "output_type": "stream",
          "text": [
            "Rank: 1\n",
            "Score: 0.442758615743984\n",
            "Document: {'text': \"Travailler de l'étranger : Il est possible de travailler à distance depuis un autre pays. Il suffit de coordonner avec votre responsable et de vous assurer d'être disponible pendant les heures de travail.\"}\n",
            "\n",
            "Rank: 2\n",
            "Score: 0.32783563708365726\n",
            "Document: {'text': 'Avantages pour la santé et le bien-être : Nous nous soucions de votre bien-être et proposons des adhésions à des salles de sport, des cours de yoga sur site et une assurance santé complète.'}\n",
            "\n"
          ]
        }
      ],
      "source": [
        "# Define the documents\n",
        "faqs_short_fr = [\n",
        "    {\"text\" : \"Remboursement des frais de voyage : Gérez facilement vos frais de voyage en les soumettant via notre outil financier. Les approbations sont rapides et simples.\"},\n",
        "    {\"text\" : \"Travailler de l'étranger : Il est possible de travailler à distance depuis un autre pays. Il suffit de coordonner avec votre responsable et de vous assurer d'être disponible pendant les heures de travail.\"},\n",
        "    {\"text\" : \"Avantages pour la santé et le bien-être : Nous nous soucions de votre bien-être et proposons des adhésions à des salles de sport, des cours de yoga sur site et une assurance santé complète.\"},\n",
        "    {\"text\" : \"Fréquence des évaluations de performance : Nous organisons des bilans informels tous les trimestres et des évaluations formelles deux fois par an.\"}\n",
        "]\n",
        "\n",
        "# Embed the documents\n",
        "doc_emb = co.embed(\n",
        "            model=\"embed-multilingual-v3.0\",\n",
        "            input_type=\"search_document\",\n",
        "            texts=[doc['text'] for doc in faqs_short_fr],\n",
        "            embedding_types=[\"float\"]).embeddings.float\n",
        "\n",
        "# Add the user query\n",
        "query = \"What's your remote-working policy?\"\n",
        "\n",
        "# Embed the query\n",
        "query_emb = co.embed(\n",
        "            model=\"embed-multilingual-v3.0\",\n",
        "            input_type=\"search_query\",\n",
        "            texts=[query],\n",
        "            embedding_types=[\"float\"]).embeddings.float\n",
        "\n",
        "# Compute dot product similarity and display results\n",
        "return_results(query_emb, doc_emb, faqs_short_fr)"
      ]
    },
    {
      "cell_type": "markdown",
      "metadata": {
        "id": "wINlw48K3yCu"
      },
      "source": [
        "Further reading:\n",
        "- [The list of supported languages for multilingual Embed](https://docs.cohere.com/docs/cohere-embed#list-of-supported-languages)"
      ]
    },
    {
      "cell_type": "markdown",
      "metadata": {
        "id": "dIiEHWX63yCu"
      },
      "source": [
        "# Changing embedding compression types"
      ]
    },
    {
      "cell_type": "markdown",
      "metadata": {
        "id": "fgYTIECr3yCu"
      },
      "source": [
        "Semantic search over large datasets can require a lot of memory, which is expensive to host in a vector database. Changing the embeddings compression type can help reduce the memory footprint.\n",
        "\n",
        "A typical embedding model generates embeddings as float32 format (consuming 4 bytes). By compressing the embeddings to int8 format (1 byte), we can reduce the memory 4x while keeping 99.99% of the original search quality.\n",
        "\n",
        "We can go even further and use the binary format (1 bit), which reduces the needed memory 32x while keeping 90-98% of the original search quality.\n",
        "\n",
        "The Embed endpoint supports the following formats: `float`, `int8`, `unint8`, `binary`, and `ubinary`. You can get these different compression levels by passing the `embedding_types` parameter.\n",
        "\n",
        "In the example below, we embed the documents in two formats: `float` and `int8`."
      ]
    },
    {
      "cell_type": "code",
      "execution_count": null,
      "metadata": {
        "id": "bBW-DBMI3yCu"
      },
      "outputs": [],
      "source": [
        "# Embed the documents with the given embedding types\n",
        "doc_emb = co.embed(\n",
        "            model=\"embed-english-v3.0\",\n",
        "            input_type=\"search_document\",\n",
        "            texts=[doc['text'] for doc in faqs_long],\n",
        "            embedding_types=[\"float\",\"int8\"]).embeddings\n",
        "\n",
        "# Add the user query\n",
        "query = \"Ways to connect with my teammates\"\n",
        "\n",
        "# Embed the query\n",
        "query_emb = co.embed(\n",
        "            model=\"embed-english-v3.0\",\n",
        "            input_type=\"search_query\",\n",
        "            texts=[query],\n",
        "            embedding_types=[\"float\",\"int8\"]).embeddings"
      ]
    },
    {
      "cell_type": "markdown",
      "metadata": {
        "id": "yOR7M4dY3yCv"
      },
      "source": [
        "Here are the search results of using the `float` embeddings (same as the earlier example)."
      ]
    },
    {
      "cell_type": "code",
      "execution_count": null,
      "metadata": {
        "id": "ZXexBN-93yCv",
        "outputId": "c252e502-532c-4b11-9d5d-6517642de457"
      },
      "outputs": [
        {
          "name": "stdout",
          "output_type": "stream",
          "text": [
            "Rank: 1\n",
            "Score: 0.3872984617627964\n",
            "Document: {'text': 'Team-Building Activities: We foster team spirit with monthly outings and weekly game nights. Feel free to suggest new activity ideas anytime!'}\n",
            "\n",
            "Rank: 2\n",
            "Score: 0.3272549670724577\n",
            "Document: {'text': 'Proposing New Ideas: Innovation is welcomed! Share your brilliant ideas at our weekly team meetings or directly with your team lead.'}\n",
            "\n"
          ]
        }
      ],
      "source": [
        "# Compute dot product similarity and display results\n",
        "return_results(query_emb.float, doc_emb.float, faqs_long)"
      ]
    },
    {
      "cell_type": "markdown",
      "metadata": {
        "id": "KjcU88NP3yCv"
      },
      "source": [
        "And here are the search results of using the `int8` embeddings."
      ]
    },
    {
      "cell_type": "code",
      "execution_count": null,
      "metadata": {
        "id": "Nbec-95P3yCv",
        "outputId": "c277b0d3-75e1-4b98-fe65-c4ea209a04de"
      },
      "outputs": [
        {
          "name": "stdout",
          "output_type": "stream",
          "text": [
            "Rank: 1\n",
            "Score: 613377\n",
            "Document: {'text': 'Team-Building Activities: We foster team spirit with monthly outings and weekly game nights. Feel free to suggest new activity ideas anytime!'}\n",
            "\n",
            "Rank: 2\n",
            "Score: 515890\n",
            "Document: {'text': 'Proposing New Ideas: Innovation is welcomed! Share your brilliant ideas at our weekly team meetings or directly with your team lead.'}\n",
            "\n"
          ]
        }
      ],
      "source": [
        "# Compute dot product similarity and display results\n",
        "return_results(query_emb.int8, doc_emb.int8, faqs_long)"
      ]
    },
    {
      "cell_type": "markdown",
      "metadata": {
        "id": "8x03WXhV3yCw"
      },
      "source": [
        "Further reading:\n",
        "- [Documentation on embeddings compression levels](https://docs.cohere.com/docs/embeddings#compression-levels)"
      ]
    },
    {
      "cell_type": "markdown",
      "metadata": {
        "id": "jHDPS2Vr3yCw"
      },
      "source": [
        "## Conclusion"
      ]
    },
    {
      "cell_type": "markdown",
      "metadata": {
        "id": "FdP5iu1m3yCw"
      },
      "source": [
        "In this tutorial, you learned about:\n",
        "- How to embed documents for search\n",
        "- How to embed queries\n",
        "- How to perform semantic search\n",
        "- How to perform multilingual semantic search\n",
        "- How to change the embedding compression types\n",
        "\n",
        "A high-performance and modern search system typically includes a reranking stage, which further boosts the search results.\n",
        "\n",
        "In Part 5, you will learn how to add reranking to a search system."
      ]
    },
    {
      "cell_type": "markdown",
      "metadata": {
        "id": "GttohB6p4GE3"
      },
      "source": [
        "# Reranking"
      ]
    },
    {
      "cell_type": "markdown",
      "metadata": {
        "id": "ALXKqsms4GE4"
      },
      "source": [
        "Reranking is a technique that leverages embeddings as the last stage of a retrieval process, and is especially useful in RAG systems.\n",
        "\n",
        "We can rerank results from semantic search as well as any other search systems such as lexical search. This means that companies can retain an existing keyword-based (also called “lexical”) or semantic search system for the first-stage retrieval and integrate the Rerank endpoint in the second-stage reranking.\n",
        "\n",
        "In this tutorial, you'll learn about:\n",
        "- Reranking lexical/semantic search results\n",
        "- Reranking semi-structured data\n",
        "- Reranking tabular data\n",
        "- Multilingual reranking\n",
        "\n",
        "You'll learn these by building an onboarding assistant for new hires."
      ]
    },
    {
      "cell_type": "markdown",
      "metadata": {
        "id": "ZPGBEqus4GE6"
      },
      "source": [
        "## Setup\n",
        "\n",
        "To get started, first we need to install the `cohere` library and create a Cohere client."
      ]
    },
    {
      "cell_type": "code",
      "execution_count": null,
      "metadata": {
        "id": "qqk2p9VI4GE8"
      },
      "outputs": [],
      "source": [
        "# pip install cohere\n",
        "\n",
        "import cohere\n",
        "\n",
        "co = cohere.ClientV2(api_key=\"COHERE_API_KEY\") # Get your free API key: https://dashboard.cohere.com/api-keys"
      ]
    },
    {
      "cell_type": "markdown",
      "metadata": {
        "id": "aId8WspP4GE9"
      },
      "source": [
        "## Reranking lexical/semantic search results"
      ]
    },
    {
      "cell_type": "markdown",
      "metadata": {
        "id": "EXfC_2zS4GE-"
      },
      "source": [
        "Rerank requires just a single line of code to implement.\n",
        "\n",
        "Suppose we have a list of search results of an FAQ list, which can come from semantic, lexical, or any other types of search systems. But this list may not be optimally ranked for relevance to the user query.\n",
        "\n",
        "This is where Rerank can help. We call the endpoint using `co.rerank()` and pass the following arguments:\n",
        "- `query`: The user query\n",
        "- `documents`: The list of documents\n",
        "- `top_n`: The top reranked documents to select\n",
        "- `model`: We choose Rerank English 3"
      ]
    },
    {
      "cell_type": "code",
      "execution_count": null,
      "metadata": {
        "id": "nYdWQEVA4GE_"
      },
      "outputs": [],
      "source": [
        "# Define the documents\n",
        "faqs_short = [\n",
        "    {\"text\": \"Reimbursing Travel Expenses: Easily manage your travel expenses by submitting them through our finance tool. Approvals are prompt and straightforward.\"},\n",
        "    {\"text\": \"Working from Abroad: Working remotely from another country is possible. Simply coordinate with your manager and ensure your availability during core hours.\"},\n",
        "    {\"text\": \"Health and Wellness Benefits: We care about your well-being and offer gym memberships, on-site yoga classes, and comprehensive health insurance.\"},\n",
        "    {\"text\": \"Performance Reviews Frequency: We conduct informal check-ins every quarter and formal performance reviews twice a year.\"}\n",
        "]"
      ]
    },
    {
      "cell_type": "code",
      "execution_count": null,
      "metadata": {
        "id": "Bh7Nshgt4GFB",
        "outputId": "ada05d12-8c10-4d18-f949-c8fd291c2d79"
      },
      "outputs": [
        {
          "name": "stdout",
          "output_type": "stream",
          "text": [
            "id='2fa5bc0d-28aa-4c99-8355-7de78dbf3c86' results=[RerankResponseResultsItem(document=None, index=2, relevance_score=0.01798621), RerankResponseResultsItem(document=None, index=3, relevance_score=8.463939e-06)] meta=ApiMeta(api_version=ApiMetaApiVersion(version='1', is_deprecated=None, is_experimental=None), billed_units=ApiMetaBilledUnits(input_tokens=None, output_tokens=None, search_units=1.0, classifications=None), tokens=None, warnings=None)\n"
          ]
        }
      ],
      "source": [
        "# Add the user query\n",
        "query = \"Are there fitness-related perks?\"\n",
        "\n",
        "# Rerank the documents\n",
        "results = co.rerank(query=query,\n",
        "                    documents=faqs_short,\n",
        "                    top_n=2,\n",
        "                    model='rerank-english-v3.0')\n",
        "\n",
        "print(results)"
      ]
    },
    {
      "cell_type": "code",
      "execution_count": null,
      "metadata": {
        "id": "unpyVtdr4GFC",
        "outputId": "a5f6e02d-23dc-492a-e19b-80bfd02c6645"
      },
      "outputs": [
        {
          "name": "stdout",
          "output_type": "stream",
          "text": [
            "Rank: 1\n",
            "Score: 0.01798621\n",
            "Document: {'text': 'Health and Wellness Benefits: We care about your well-being and offer gym memberships, on-site yoga classes, and comprehensive health insurance.'}\n",
            "\n",
            "Rank: 2\n",
            "Score: 8.463939e-06\n",
            "Document: {'text': 'Performance Reviews Frequency: We conduct informal check-ins every quarter and formal performance reviews twice a year.'}\n",
            "\n"
          ]
        }
      ],
      "source": [
        "# Display the reranking results\n",
        "def return_results(results, documents):\n",
        "    for idx, result in enumerate(results.results):\n",
        "        print(f\"Rank: {idx+1}\")\n",
        "        print(f\"Score: {result.relevance_score}\")\n",
        "        print(f\"Document: {documents[result.index]}\\n\")\n",
        "\n",
        "return_results(results, faqs_short)"
      ]
    },
    {
      "cell_type": "markdown",
      "metadata": {
        "id": "1yz6ya274GFE"
      },
      "source": [
        "Further reading:\n",
        "- [Rerank endpoint API reference](https://docs.cohere.com/reference/rerank)\n",
        "- [Documentation on Rerank](https://docs.cohere.com/docs/overview)\n",
        "- [Documentation on Rerank fine-tuning](https://docs.cohere.com/docs/rerank-fine-tuning)\n",
        "- [Documentation on Rerank best practices](https://docs.cohere.com/docs/reranking-best-practices)\n",
        "- [LLM University module on Text Representation](https://cohere.com/llmu#text-representation)"
      ]
    },
    {
      "cell_type": "markdown",
      "metadata": {
        "id": "lJBDjwNH4GFE"
      },
      "source": [
        "## Reranking semi-structured data"
      ]
    },
    {
      "cell_type": "markdown",
      "metadata": {
        "id": "Bo391QKV4GFF"
      },
      "source": [
        "The Rerank 3 model supports multi-aspect and semi-structured data like emails, invoices, JSON documents, code, and tables. By setting the rank fields, you can select which fields the model should consider for reranking.\n",
        "\n",
        "In the following example, we'll use an email data example. It is a semi-stuctured data that contains a number of fields – `from`, `to`, `date`, `subject`, and `text`.\n",
        "\n",
        "Suppose the new hire now wants to search for any emails about check-in sessions. Let's pretend we have a list of 5 emails retrieved from the email provider's API.\n",
        "\n",
        "To perform reranking over semi-structured data, we add an additional parameter, `rank_fields`, which contains the list of available fields.\n",
        "\n",
        "The model will rerank based on order of the fields passed in. For example, given rank_fields=['title','author','text'], the model will rerank using the values in title, author, and text sequentially."
      ]
    },
    {
      "cell_type": "code",
      "execution_count": null,
      "metadata": {
        "id": "97iKTJLG4GFG"
      },
      "outputs": [],
      "source": [
        "# Define the documents\n",
        "emails = [\n",
        "    {\"from\": \"hr@co1t.com\", \"to\": \"david@co1t.com\", \"date\": \"2024-06-24\", \"subject\": \"A Warm Welcome to Co1t!\", \"text\": \"We are delighted to welcome you to the team! As you embark on your journey with us, you'll find attached an agenda to guide you through your first week.\"},\n",
        "    {\"from\": \"it@co1t.com\", \"to\": \"david@co1t.com\", \"date\": \"2024-06-24\", \"subject\": \"Setting Up Your IT Needs\", \"text\": \"Greetings! To ensure a seamless start, please refer to the attached comprehensive guide, which will assist you in setting up all your work accounts.\"},\n",
        "    {\"from\": \"john@co1t.com\", \"to\": \"david@co1t.com\", \"date\": \"2024-06-24\", \"subject\": \"First Week Check-In\", \"text\": \"Hello! I hope you're settling in well. Let's connect briefly tomorrow to discuss how your first week has been going. Also, make sure to join us for a welcoming lunch this Thursday at noon—it's a great opportunity to get to know your colleagues!\"}\n",
        "]"
      ]
    },
    {
      "cell_type": "code",
      "execution_count": null,
      "metadata": {
        "id": "NAN7mzmi4GFH",
        "outputId": "6a84cce0-a352-48fc-dbd8-dc00f251fb11"
      },
      "outputs": [
        {
          "name": "stdout",
          "output_type": "stream",
          "text": [
            "Rank: 1\n",
            "Score: 0.1979091\n",
            "Document: {'from': 'john@co1t.com', 'to': 'david@co1t.com', 'date': '2024-06-24', 'subject': 'First Week Check-In', 'text': \"Hello! I hope you're settling in well. Let's connect briefly tomorrow to discuss how your first week has been going. Also, make sure to join us for a welcoming lunch this Thursday at noon—it's a great opportunity to get to know your colleagues!\"}\n",
            "\n",
            "Rank: 2\n",
            "Score: 9.535461e-05\n",
            "Document: {'from': 'hr@co1t.com', 'to': 'david@co1t.com', 'date': '2024-06-24', 'subject': 'A Warm Welcome to Co1t!', 'text': \"We are delighted to welcome you to the team! As you embark on your journey with us, you'll find attached an agenda to guide you through your first week.\"}\n",
            "\n"
          ]
        }
      ],
      "source": [
        "# Add the user query\n",
        "query = \"Any email about check ins?\"\n",
        "\n",
        "# Rerank the documents\n",
        "results = co.rerank(query=query,\n",
        "                    documents=emails,\n",
        "                    top_n=2,\n",
        "                    model='rerank-english-v3.0',\n",
        "                    rank_fields=[\"from\", \"to\", \"date\", \"subject\", \"body\"])\n",
        "\n",
        "return_results(results, emails)"
      ]
    },
    {
      "cell_type": "markdown",
      "metadata": {
        "id": "VwEU1Ekk4GFH"
      },
      "source": [
        "## Reranking tabular data"
      ]
    },
    {
      "cell_type": "markdown",
      "metadata": {
        "id": "YGeBznjb4GFI"
      },
      "source": [
        "Many enterprises rely on tabular data, such as relational databases, CSVs, and Excel. To perform reranking, you can transform a dataframe into a list of JSON records and use Rerank 3's JSON capabilities to rank them.\n",
        "\n",
        "Here's an example of reranking a CSV file that contains employee information."
      ]
    },
    {
      "cell_type": "code",
      "execution_count": null,
      "metadata": {
        "id": "Zq5gUKqt4GFI",
        "outputId": "ddcbd81f-812e-481d-d456-62ef81a89aa6"
      },
      "outputs": [
        {
          "name": "stderr",
          "output_type": "stream",
          "text": [
            "/Users/meor/anaconda3/lib/python3.11/site-packages/pandas/core/arrays/masked.py:60: UserWarning: Pandas requires version '1.3.6' or newer of 'bottleneck' (version '1.3.5' currently installed).\n",
            "  from pandas.core import (\n"
          ]
        },
        {
          "data": {
            "text/html": [
              "<div>\n",
              "<style scoped>\n",
              "    .dataframe tbody tr th:only-of-type {\n",
              "        vertical-align: middle;\n",
              "    }\n",
              "\n",
              "    .dataframe tbody tr th {\n",
              "        vertical-align: top;\n",
              "    }\n",
              "\n",
              "    .dataframe thead th {\n",
              "        text-align: right;\n",
              "    }\n",
              "</style>\n",
              "<table border=\"1\" class=\"dataframe\">\n",
              "  <thead>\n",
              "    <tr style=\"text-align: right;\">\n",
              "      <th></th>\n",
              "      <th>name</th>\n",
              "      <th>role</th>\n",
              "      <th>join_date</th>\n",
              "      <th>email</th>\n",
              "      <th>status</th>\n",
              "    </tr>\n",
              "  </thead>\n",
              "  <tbody>\n",
              "    <tr>\n",
              "      <th>0</th>\n",
              "      <td>Rebecca Lee</td>\n",
              "      <td>Senior Software Engineer</td>\n",
              "      <td>2024-07-01</td>\n",
              "      <td>rebecca@co1t.com</td>\n",
              "      <td>Full-time</td>\n",
              "    </tr>\n",
              "    <tr>\n",
              "      <th>1</th>\n",
              "      <td>Emma Williams</td>\n",
              "      <td>Product Designer</td>\n",
              "      <td>2024-06-15</td>\n",
              "      <td>emma@co1t.com</td>\n",
              "      <td>Full-time</td>\n",
              "    </tr>\n",
              "    <tr>\n",
              "      <th>2</th>\n",
              "      <td>Michael Jones</td>\n",
              "      <td>Marketing Manager</td>\n",
              "      <td>2024-05-20</td>\n",
              "      <td>michael@co1t.com</td>\n",
              "      <td>Full-time</td>\n",
              "    </tr>\n",
              "    <tr>\n",
              "      <th>3</th>\n",
              "      <td>Amelia Thompson</td>\n",
              "      <td>Sales Representative</td>\n",
              "      <td>2024-05-20</td>\n",
              "      <td>amelia@co1t.com</td>\n",
              "      <td>Part-time</td>\n",
              "    </tr>\n",
              "    <tr>\n",
              "      <th>4</th>\n",
              "      <td>Ethan Davis</td>\n",
              "      <td>Product Designer</td>\n",
              "      <td>2024-05-25</td>\n",
              "      <td>ethan@co1t.com</td>\n",
              "      <td>Contractor</td>\n",
              "    </tr>\n",
              "  </tbody>\n",
              "</table>\n",
              "</div>"
            ],
            "text/plain": [
              "              name                      role   join_date             email  \\\n",
              "0      Rebecca Lee  Senior Software Engineer  2024-07-01  rebecca@co1t.com   \n",
              "1    Emma Williams          Product Designer  2024-06-15     emma@co1t.com   \n",
              "2    Michael Jones         Marketing Manager  2024-05-20  michael@co1t.com   \n",
              "3  Amelia Thompson      Sales Representative  2024-05-20   amelia@co1t.com   \n",
              "4      Ethan Davis          Product Designer  2024-05-25    ethan@co1t.com   \n",
              "\n",
              "       status  \n",
              "0   Full-time  \n",
              "1   Full-time  \n",
              "2   Full-time  \n",
              "3   Part-time  \n",
              "4  Contractor  "
            ]
          },
          "execution_count": 7,
          "metadata": {},
          "output_type": "execute_result"
        }
      ],
      "source": [
        "import pandas as pd\n",
        "from io import StringIO\n",
        "\n",
        "# Create a demo CSV file\n",
        "data = \"\"\"name,role,join_date,email,status\n",
        "Rebecca Lee,Senior Software Engineer,2024-07-01,rebecca@co1t.com,Full-time\n",
        "Emma Williams,Product Designer,2024-06-15,emma@co1t.com,Full-time\n",
        "Michael Jones,Marketing Manager,2024-05-20,michael@co1t.com,Full-time\n",
        "Amelia Thompson,Sales Representative,2024-05-20,amelia@co1t.com,Part-time\n",
        "Ethan Davis,Product Designer,2024-05-25,ethan@co1t.com,Contractor\"\"\"\n",
        "data_csv = StringIO(data)\n",
        "\n",
        "# Load the CSV file\n",
        "df = pd.read_csv(data_csv)\n",
        "df.head()"
      ]
    },
    {
      "cell_type": "code",
      "execution_count": null,
      "metadata": {
        "id": "F_nQneTo4GFJ",
        "outputId": "f11d7557-2e2c-495c-a648-69c611072041"
      },
      "outputs": [
        {
          "name": "stdout",
          "output_type": "stream",
          "text": [
            "Rank: 1\n",
            "Score: 0.986828\n",
            "Document: {'name': 'Emma Williams', 'role': 'Product Designer', 'join_date': '2024-06-15', 'email': 'emma@co1t.com', 'status': 'Full-time'}\n",
            "\n"
          ]
        }
      ],
      "source": [
        "# Define the documents and rank fields\n",
        "employees = df.to_dict('records')\n",
        "rank_fields = df.columns.tolist()\n",
        "\n",
        "# Add the user query\n",
        "query = \"Any full-time product designers who joined recently?\"\n",
        "\n",
        "# Rerank the documents\n",
        "results = co.rerank(query=query,\n",
        "                    documents=employees,\n",
        "                    top_n=1,\n",
        "                    model='rerank-english-v3.0',\n",
        "                    rank_fields=rank_fields)\n",
        "\n",
        "return_results(results, employees)\n"
      ]
    },
    {
      "cell_type": "markdown",
      "metadata": {
        "id": "FoTfn7P54GFK"
      },
      "source": [
        "## Multilingual reranking"
      ]
    },
    {
      "cell_type": "markdown",
      "metadata": {
        "id": "rqY9HScO4GFK"
      },
      "source": [
        "The Rerank endpoint also supports multilingual semantic search via the `rerank-multilingual-...` models. This means you can perform semantic search on texts in different languages.\n",
        "\n",
        "In the example below, we repeat the steps of performing reranking with one difference – changing the model type to a multilingual one. Here, we use the `rerank-multilingual-v3.0` model. Here, we are reranking the FAQ list using an Arabic query."
      ]
    },
    {
      "cell_type": "code",
      "execution_count": null,
      "metadata": {
        "id": "-tPfxEnS4GFL",
        "outputId": "2c9578fa-719a-4e50-ca08-1441c84bb69d"
      },
      "outputs": [
        {
          "name": "stdout",
          "output_type": "stream",
          "text": [
            "Rank: 1\n",
            "Score: 0.42232594\n",
            "Document: {'text': 'Health and Wellness Benefits: We care about your well-being and offer gym memberships, on-site yoga classes, and comprehensive health insurance.'}\n",
            "\n",
            "Rank: 2\n",
            "Score: 0.00025118678\n",
            "Document: {'text': 'Performance Reviews Frequency: We conduct informal check-ins every quarter and formal performance reviews twice a year.'}\n",
            "\n"
          ]
        }
      ],
      "source": [
        "# Define the query\n",
        "query = \"هل هناك مزايا تتعلق باللياقة البدنية؟\" # Are there fitness benefits?\n",
        "\n",
        "# Rerank the documents\n",
        "results = co.rerank(query=query,\n",
        "                    documents=faqs_short,\n",
        "                    top_n=2,\n",
        "                    model='rerank-multilingual-v3.0')\n",
        "\n",
        "return_results(results, faqs_short)"
      ]
    },
    {
      "cell_type": "markdown",
      "metadata": {
        "id": "IgKCOuAb4GFL"
      },
      "source": [
        "## Conclusion"
      ]
    },
    {
      "cell_type": "markdown",
      "metadata": {
        "id": "eG77n7W64GFM"
      },
      "source": [
        "In this tutorial, you learned about:\n",
        "- How to rerank lexical/semantic search results\n",
        "- How to rerank semi-structured data\n",
        "- How to rerank tabular data\n",
        "- How to perform Multilingual reranking\n",
        "\n",
        "We have now seen two critical components of a powerful search system - semantic search, or dense retrieval (Part 4) and reranking (Part 5). These building blocks are essential for implementing RAG solutions.\n",
        "\n",
        "In Part 6, you will learn how to implement RAG."
      ]
    },
    {
      "cell_type": "markdown",
      "metadata": {
        "id": "Ws8uc4w6458l"
      },
      "source": [
        "# RAG"
      ]
    },
    {
      "cell_type": "markdown",
      "metadata": {
        "id": "ebQEqXwg458l"
      },
      "source": [
        "The Chat endpoint provides comprehensive support for various text generation use cases, including retrieval-augmented generation (RAG).\n",
        "\n",
        "While LLMs are good at maintaining the context of the conversation and generating responses, they can be prone to hallucinate and include factually incorrect or incomplete information in their responses.\n",
        "\n",
        "RAG enables a model to access and utilize supplementary information from external documents, thereby improving the accuracy of its responses.\n",
        "\n",
        "When using RAG with the Chat endpoint, these responses are backed by fine-grained citations linking to the source documents. This makes the responses easily verifiable.\n",
        "\n",
        "In this tutorial, you'll learn about:\n",
        "- Basic RAG\n",
        "- Search query generation\n",
        "- Retrieval with Embed\n",
        "- Reranking with Rerank\n",
        "- Response and citation generation\n",
        "\n",
        "You'll learn these by building an onboarding assistant for new hires."
      ]
    },
    {
      "cell_type": "markdown",
      "metadata": {
        "id": "H0xnZTJd458m"
      },
      "source": [
        "## Setup\n",
        "\n",
        "To get started, first we need to install the `cohere` library and create a Cohere client."
      ]
    },
    {
      "cell_type": "code",
      "execution_count": null,
      "metadata": {
        "id": "ickjRyNS458n"
      },
      "outputs": [],
      "source": [
        "\n",
        "# pip install cohere\n",
        "\n",
        "import cohere\n",
        "import numpy as np\n",
        "import json\n",
        "from typing import List\n",
        "\n",
        "co = cohere.ClientV2(api_key=\"COHERE_API_KEY\") # Get your free API key: https://dashboard.cohere.com/api-keys"
      ]
    },
    {
      "cell_type": "markdown",
      "metadata": {
        "id": "-D7QvqZA458o"
      },
      "source": [
        "## Basic RAG\n"
      ]
    },
    {
      "cell_type": "markdown",
      "metadata": {
        "id": "d_zkobNP458o"
      },
      "source": [
        "To see how RAG works, let's define the documents that the application has access to. We'll use a short list of documents consisting of internal FAQs about the fictitious company Co1t (in production, these documents are massive).\n",
        "\n",
        "In this example, each document is a `data` object with one field, `text`. But we can define any number of fields we want, depending on the nature of the documents. For example, emails could contain `title` and `text` fields."
      ]
    },
    {
      "cell_type": "code",
      "execution_count": null,
      "metadata": {
        "id": "Tf5qT_2P458p"
      },
      "outputs": [],
      "source": [
        "documents = [\n",
        "  {\n",
        "    \"data\": {\n",
        "      \"text\": \"Reimbursing Travel Expenses: Easily manage your travel expenses by submitting them through our finance tool. Approvals are prompt and straightforward.\"\n",
        "    }\n",
        "  },\n",
        "  {\n",
        "    \"data\": {\n",
        "      \"text\": \"Working from Abroad: Working remotely from another country is possible. Simply coordinate with your manager and ensure your availability during core hours.\"\n",
        "    }\n",
        "  },\n",
        "  {\n",
        "    \"data\": {\n",
        "      \"text\": \"Health and Wellness Benefits: We care about your well-being and offer gym memberships, on-site yoga classes, and comprehensive health insurance.\"\n",
        "    }\n",
        "  }\n",
        "]"
      ]
    },
    {
      "cell_type": "markdown",
      "metadata": {
        "id": "Az52Y0f2458p"
      },
      "source": [
        "To call the Chat API with RAG, pass the following parameters at a minimum. This tells the model to run in RAG-mode and use these documents in its response.\n",
        "\n",
        "- `model` for the model ID\n",
        "- `messages` for the user's query.\n",
        "- `documents` for defining the documents.\n",
        "\n",
        "Let's create a query asking about the company's support for personal well-being, which is not going to be available to the model based on the data its trained on. It will need to use external documents.\n",
        "\n",
        "RAG introduces additional objects in the Chat response. One of them is `citations`, which contains details about:\n",
        "- specific text spans from the retrieved documents on which the response is grounded.\n",
        "- the documents referenced in the citations."
      ]
    },
    {
      "cell_type": "code",
      "execution_count": null,
      "metadata": {
        "id": "mdRSJSuR458q",
        "outputId": "1d809476-fc9e-4d02-8cb0-cd8e9b93125e"
      },
      "outputs": [
        {
          "name": "stdout",
          "output_type": "stream",
          "text": [
            "Yes, there are health benefits. We offer gym memberships, on-site yoga classes, and comprehensive health insurance.\n",
            "\n",
            "CITATIONS:\n",
            "start=41 end=115 text='gym memberships, on-site yoga classes, and comprehensive health insurance.' sources=[DocumentSource(type='document', id='doc:2', document={'id': 'doc:2', 'text': 'Health and Wellness Benefits: We care about your well-being and offer gym memberships, on-site yoga classes, and comprehensive health insurance.'})] \n",
            "\n"
          ]
        }
      ],
      "source": [
        "# Add the user query\n",
        "query = \"Are there health benefits?\"\n",
        "\n",
        "# Generate the response\n",
        "response = co.chat(model=\"command-r-plus-08-2024\",\n",
        "                   messages=[{'role': 'user', 'content': query}],\n",
        "                   documents=documents)\n",
        "\n",
        "# Display the response\n",
        "print(response.message.content[0].text)\n",
        "\n",
        "# Display the citations and source documents\n",
        "if response.message.citations:\n",
        "    print(\"\\nCITATIONS:\")\n",
        "    for citation in response.message.citations:\n",
        "        print(citation, \"\\n\")"
      ]
    },
    {
      "cell_type": "markdown",
      "metadata": {
        "id": "lZ3Y8B_S458q"
      },
      "source": [
        "## Search query generation"
      ]
    },
    {
      "cell_type": "markdown",
      "metadata": {
        "id": "ksAJnu8S458r"
      },
      "source": [
        "The previous example showed how to get started with RAG, and in particular, the augmented generation portion of RAG. But as its name implies, RAG consists of other steps, such as retrieval.\n",
        "\n",
        "In a basic RAG application, the steps involved are:\n",
        "\n",
        "- Transforming the user message into search queries\n",
        "- Retrieving relevant documents for a given search query\n",
        "- Generating the response and citations\n",
        "\n",
        "Let's now look at the first step—search query generation. The chatbot needs to generate an optimal set of search queries to use for retrieval.\n",
        "\n",
        "There are different possible approaches to this. In this example, we'll take a [tool use](v2/docs/tool-use) approach.\n",
        "\n",
        "Here, we build a tool that takes a user query and returns a list of relevant document snippets for that query. The tool can generate zero, one or multiple search queries depending on the user query."
      ]
    },
    {
      "cell_type": "code",
      "execution_count": null,
      "metadata": {
        "id": "csl0YgHh458s"
      },
      "outputs": [],
      "source": [
        "def generate_search_queries(message: str) -> List[str]:\n",
        "\n",
        "    # Define the query generation tool\n",
        "    query_gen_tool = [\n",
        "        {\n",
        "            \"type\": \"function\",\n",
        "            \"function\": {\n",
        "                \"name\": \"internet_search\",\n",
        "                \"description\": \"Returns a list of relevant document snippets for a textual query retrieved from the internet\",\n",
        "                \"parameters\": {\n",
        "                    \"type\": \"object\",\n",
        "                    \"properties\": {\n",
        "                        \"queries\": {\n",
        "                            \"type\": \"array\",\n",
        "                            \"items\": {\"type\": \"string\"},\n",
        "                            \"description\": \"a list of queries to search the internet with.\",\n",
        "                        }\n",
        "                    },\n",
        "                    \"required\": [\"queries\"],\n",
        "                },\n",
        "            },\n",
        "        }\n",
        "    ]\n",
        "\n",
        "\n",
        "    # Define a preamble to optimize search query generation\n",
        "    instructions = \"Write a search query that will find helpful information for answering the user's question accurately. If you need more than one search query, write a list of search queries. If you decide that a search is very unlikely to find information that would be useful in constructing a response to the user, you should instead directly answer.\"\n",
        "\n",
        "    # Generate search queries (if any)\n",
        "    search_queries = []\n",
        "\n",
        "    res = co.chat(\n",
        "        model=\"command-r-08-2024\",\n",
        "        messages=[\n",
        "            {\"role\": \"system\", \"content\": instructions},\n",
        "            {\"role\": \"user\", \"content\": message},\n",
        "        ],\n",
        "        tools=query_gen_tool\n",
        "    )\n",
        "\n",
        "    if res.message.tool_calls:\n",
        "        for tc in res.message.tool_calls:\n",
        "            queries = json.loads(tc.function.arguments)[\"queries\"]\n",
        "            search_queries.extend(queries)\n",
        "\n",
        "    return search_queries"
      ]
    },
    {
      "cell_type": "markdown",
      "metadata": {
        "id": "wfHNFE_U458s"
      },
      "source": [
        "In the example above, the tool breaks down the user message into two separate queries."
      ]
    },
    {
      "cell_type": "code",
      "execution_count": null,
      "metadata": {
        "id": "y6khG4X5458s",
        "outputId": "e21784af-c937-4d62-9d57-3eec94c753e2"
      },
      "outputs": [
        {
          "name": "stdout",
          "output_type": "stream",
          "text": [
            "['how to stay connected with the company', 'do companies organise team events']\n"
          ]
        }
      ],
      "source": [
        "query = \"How to stay connected with the company, and do you organize team events?\"\n",
        "queries_for_search = generate_search_queries(query)\n",
        "print(queries_for_search)"
      ]
    },
    {
      "cell_type": "markdown",
      "metadata": {
        "id": "cPvD5iQN458t"
      },
      "source": [
        "And in the example below, the tool decides that one query is sufficient."
      ]
    },
    {
      "cell_type": "code",
      "execution_count": null,
      "metadata": {
        "id": "VwsPRLfa458t",
        "outputId": "a860f746-5306-4893-d9b7-066dc11bdcad"
      },
      "outputs": [
        {
          "name": "stdout",
          "output_type": "stream",
          "text": [
            "['How flexible are the working hours?']\n"
          ]
        }
      ],
      "source": [
        "query = \"How flexible are the working hours\"\n",
        "queries_for_search = generate_search_queries(query)\n",
        "print(queries_for_search)"
      ]
    },
    {
      "cell_type": "markdown",
      "metadata": {
        "id": "vU2pkC2Q458t"
      },
      "source": [
        "And in the example below, the tool decides that no retrieval is needed to answer the query."
      ]
    },
    {
      "cell_type": "code",
      "execution_count": null,
      "metadata": {
        "id": "b8iO6KuG458u",
        "outputId": "eb323907-b4b6-4ae7-9f11-0082be97cd6f"
      },
      "outputs": [
        {
          "name": "stdout",
          "output_type": "stream",
          "text": [
            "[]\n"
          ]
        }
      ],
      "source": [
        "query = \"What is 2 + 2\"\n",
        "queries_for_search = generate_search_queries(query)\n",
        "print(queries_for_search)"
      ]
    },
    {
      "cell_type": "markdown",
      "metadata": {
        "id": "3601GevD458u"
      },
      "source": [
        "## Retrieval with Embed"
      ]
    },
    {
      "cell_type": "markdown",
      "metadata": {
        "id": "EJFz4qIZ458u"
      },
      "source": [
        "Given the search query, we need a way to retrieve the most relevant documents from a large collection of documents.\n",
        "\n",
        "This is where we can leverage text embeddings through the Embed endpoint. It enables semantic search, which lets us to compare the semantic meaning of the documents and the query. It solves the problem faced by the more traditional approach of lexical search, which is great at finding keyword matches, but struggles at capturing the context or meaning of a piece of text.\n",
        "\n",
        "The Embed endpoint takes in texts as input and returns embeddings as output.\n",
        "\n",
        "First, we need to embed the documents to search from. We call the Embed endpoint using `co.embed()` and pass the following arguments:\n",
        "\n",
        "- `model`: Here we choose `embed-english-v3.0`, which generates embeddings of size 1024\n",
        "- `input_type`: We choose `search_document` to ensure the model treats these as the documents (instead of the query) for search\n",
        "- `texts`: The list of texts (the FAQs)"
      ]
    },
    {
      "cell_type": "code",
      "execution_count": null,
      "metadata": {
        "id": "zgLtRgqH458u"
      },
      "outputs": [],
      "source": [
        "# Define the documents\n",
        "faqs_long = [\n",
        "    {\n",
        "        \"data\": {\n",
        "            \"text\": \"Joining Slack Channels: You will receive an invite via email. Be sure to join relevant channels to stay informed and engaged.\"\n",
        "        }\n",
        "    },\n",
        "    {\n",
        "        \"data\": {\n",
        "            \"text\": \"Finding Coffee Spots: For your caffeine fix, head to the break room's coffee machine or cross the street to the café for artisan coffee.\"\n",
        "        }\n",
        "    },\n",
        "    {\n",
        "        \"data\": {\n",
        "            \"text\": \"Team-Building Activities: We foster team spirit with monthly outings and weekly game nights. Feel free to suggest new activity ideas anytime!\"\n",
        "        }\n",
        "    },\n",
        "    {\n",
        "        \"data\": {\n",
        "            \"text\": \"Working Hours Flexibility: We prioritize work-life balance. While our core hours are 9 AM to 5 PM, we offer flexibility to adjust as needed.\"\n",
        "        }\n",
        "    },\n",
        "    {\n",
        "        \"data\": {\n",
        "            \"text\": \"Side Projects Policy: We encourage you to pursue your passions. Just be mindful of any potential conflicts of interest with our business.\"\n",
        "        }\n",
        "    },\n",
        "    {\n",
        "        \"data\": {\n",
        "            \"text\": \"Reimbursing Travel Expenses: Easily manage your travel expenses by submitting them through our finance tool. Approvals are prompt and straightforward.\"\n",
        "        }\n",
        "    },\n",
        "    {\n",
        "        \"data\": {\n",
        "            \"text\": \"Working from Abroad: Working remotely from another country is possible. Simply coordinate with your manager and ensure your availability during core hours.\"\n",
        "        }\n",
        "    },\n",
        "    {\n",
        "        \"data\": {\n",
        "            \"text\": \"Health and Wellness Benefits: We care about your well-being and offer gym memberships, on-site yoga classes, and comprehensive health insurance.\"\n",
        "        }\n",
        "    },\n",
        "    {\n",
        "        \"data\": {\n",
        "            \"text\": \"Performance Reviews Frequency: We conduct informal check-ins every quarter and formal performance reviews twice a year.\"\n",
        "        }\n",
        "    },\n",
        "    {\n",
        "        \"data\": {\n",
        "            \"text\": \"Proposing New Ideas: Innovation is welcomed! Share your brilliant ideas at our weekly team meetings or directly with your team lead.\"\n",
        "        }\n",
        "    },\n",
        "]\n",
        "\n",
        "# Embed the documents\n",
        "doc_emb = co.embed(\n",
        "            model=\"embed-english-v3.0\",\n",
        "            input_type=\"search_document\",\n",
        "            texts=[doc['data']['text'] for doc in faqs_long],\n",
        "            embedding_types=[\"float\"]).embeddings.float"
      ]
    },
    {
      "cell_type": "markdown",
      "metadata": {
        "id": "2rt3g6Ux458v"
      },
      "source": [
        "Next, we add a query, which asks about how to get to know the team.\n",
        "\n",
        "We choose `search_query` as the `input_type` to ensure the model treats this as the query (instead of the documents) for search."
      ]
    },
    {
      "cell_type": "code",
      "execution_count": null,
      "metadata": {
        "id": "BCGWJFcK458v",
        "outputId": "b16a40e0-7a9f-47ee-e4ef-7abab9394683"
      },
      "outputs": [
        {
          "name": "stdout",
          "output_type": "stream",
          "text": [
            "Search query:  how to get to know your teammates\n"
          ]
        }
      ],
      "source": [
        "# Add the user query\n",
        "query = \"How to get to know my teammates\"\n",
        "\n",
        "# Generate the search query\n",
        "# Note: For simplicity, we are assuming only one query generated. For actual implementations, you will need to perform search for each query.\n",
        "queries_for_search = generate_search_queries(query)[0]\n",
        "print(\"Search query: \", queries_for_search)\n",
        "\n",
        "# Embed the search query\n",
        "query_emb = co.embed(\n",
        "    model=\"embed-english-v3.0\",\n",
        "    input_type=\"search_query\",\n",
        "    texts=[queries_for_search],\n",
        "    embedding_types=[\"float\"]).embeddings.float"
      ]
    },
    {
      "cell_type": "markdown",
      "metadata": {
        "id": "vFRMHlLU458v"
      },
      "source": [
        "Now, we want to search for the most relevant documents to the query. For this, we make use of the `numpy` library to compute the similarity between each query-document pair using the dot product approach.\n",
        "\n",
        "Each query-document pair returns a score, which represents how similar the pair are. We then sort these scores in descending order and select the top most similar pairs, which we choose 5 (this is an arbitrary choice, you can choose any number).\n",
        "\n",
        "Here, we show the most relevant documents with their similarity scores."
      ]
    },
    {
      "cell_type": "code",
      "execution_count": null,
      "metadata": {
        "id": "uNOaZbJr458v",
        "outputId": "0d76d41c-c4bf-409b-e1de-bb7b07c7b5e2"
      },
      "outputs": [
        {
          "name": "stdout",
          "output_type": "stream",
          "text": [
            "Rank: 1\n",
            "Score: 0.32653470360872655\n",
            "Document: {'data': {'text': 'Team-Building Activities: We foster team spirit with monthly outings and weekly game nights. Feel free to suggest new activity ideas anytime!'}}\n",
            "\n",
            "Rank: 2\n",
            "Score: 0.26851855352264786\n",
            "Document: {'data': {'text': 'Proposing New Ideas: Innovation is welcomed! Share your brilliant ideas at our weekly team meetings or directly with your team lead.'}}\n",
            "\n",
            "Rank: 3\n",
            "Score: 0.2581341975304149\n",
            "Document: {'data': {'text': 'Joining Slack Channels: You will receive an invite via email. Be sure to join relevant channels to stay informed and engaged.'}}\n",
            "\n",
            "Rank: 4\n",
            "Score: 0.18633336738178463\n",
            "Document: {'data': {'text': \"Finding Coffee Spots: For your caffeine fix, head to the break room's coffee machine or cross the street to the café for artisan coffee.\"}}\n",
            "\n",
            "Rank: 5\n",
            "Score: 0.13022396595682814\n",
            "Document: {'data': {'text': 'Health and Wellness Benefits: We care about your well-being and offer gym memberships, on-site yoga classes, and comprehensive health insurance.'}}\n",
            "\n"
          ]
        }
      ],
      "source": [
        "# Compute dot product similarity and display results\n",
        "n = 5\n",
        "scores = np.dot(query_emb, np.transpose(doc_emb))[0]\n",
        "max_idx = np.argsort(-scores)[:n]\n",
        "\n",
        "retrieved_documents = [faqs_long[item] for item in max_idx]\n",
        "\n",
        "for rank, idx in enumerate(max_idx):\n",
        "    print(f\"Rank: {rank+1}\")\n",
        "    print(f\"Score: {scores[idx]}\")\n",
        "    print(f\"Document: {retrieved_documents[rank]}\\n\")"
      ]
    },
    {
      "cell_type": "markdown",
      "metadata": {
        "id": "jSi3ekT3458w"
      },
      "source": [
        "Reranking can boost the results from semantic or lexical search further. The Rerank endpoint takes a list of search results and reranks them according to the most relevant documents to a query. This requires just a single line of code to implement.\n",
        "\n",
        "We call the endpoint using `co.rerank()` and pass the following arguments:\n",
        "\n",
        "- `query`: The user query\n",
        "- `documents`: The list of documents we get from the semantic search results\n",
        "- `top_n`: The top reranked documents to select\n",
        "- `model`: We choose Rerank English 3\n",
        "\n",
        "Looking at the results, we see that since the query is about getting to know the team, the document that talks about joining Slack channels is now ranked higher (1st) compared to earlier (3rd).\n",
        "\n",
        "Here we select `top_n` to be 2, which will be the documents we will pass next for response generation."
      ]
    },
    {
      "cell_type": "code",
      "execution_count": null,
      "metadata": {
        "id": "Jze970u9458w",
        "outputId": "74693cf9-f670-4208-df1e-173ffc92b5c2"
      },
      "outputs": [
        {
          "name": "stdout",
          "output_type": "stream",
          "text": [
            "Rank: 1\n",
            "Score: 0.0040072887\n",
            "Document: {'data': {'text': 'Joining Slack Channels: You will receive an invite via email. Be sure to join relevant channels to stay informed and engaged.'}}\n",
            "\n",
            "Rank: 2\n",
            "Score: 0.0020829707\n",
            "Document: {'data': {'text': 'Team-Building Activities: We foster team spirit with monthly outings and weekly game nights. Feel free to suggest new activity ideas anytime!'}}\n",
            "\n"
          ]
        }
      ],
      "source": [
        "# Rerank the documents\n",
        "results = co.rerank(query=queries_for_search,\n",
        "                    documents=[doc['data']['text'] for doc in retrieved_documents],\n",
        "                    top_n=2,\n",
        "                    model='rerank-english-v3.0')\n",
        "\n",
        "# Display the reranking results\n",
        "for idx, result in enumerate(results.results):\n",
        "    print(f\"Rank: {idx+1}\")\n",
        "    print(f\"Score: {result.relevance_score}\")\n",
        "    print(f\"Document: {retrieved_documents[result.index]}\\n\")\n",
        "\n",
        "reranked_documents = [retrieved_documents[result.index] for result in results.results]"
      ]
    },
    {
      "cell_type": "markdown",
      "metadata": {
        "id": "ITJG4qZy458w"
      },
      "source": [
        "Finally we reach the step that we saw in the earlier `Basic RAG` section.\n",
        "\n",
        "To call the Chat API with RAG, we pass the following parameters. This tells the model to run in RAG-mode and use these documents in its response.\n",
        "\n",
        "- `model` for the model ID\n",
        "- `messages` for the user's query.\n",
        "- `documents` for defining the documents.\n",
        "\n",
        "The response is then generated based on the the query and the documents retrieved.\n",
        "\n",
        "RAG introduces additional objects in the Chat response. One of them is `citations`, which contains details about:\n",
        "- specific text spans from the retrieved documents on which the response is grounded.\n",
        "- the documents referenced in the citations."
      ]
    },
    {
      "cell_type": "code",
      "execution_count": null,
      "metadata": {
        "id": "t_2okwdp458w",
        "outputId": "3908dc9e-640a-4990-c1a5-39a03ef64cc1"
      },
      "outputs": [
        {
          "name": "stdout",
          "output_type": "stream",
          "text": [
            "You can get to know your teammates by joining Slack channels and participating in team-building activities. You will receive an invite via email to join relevant channels to stay informed and engaged. There are monthly outings and weekly game nights to foster team spirit. You can suggest new activity ideas at any time.\n",
            "\n",
            "CITATIONS:\n",
            "start=38 end=60 text='joining Slack channels' sources=[DocumentSource(type='document', id='doc:0', document={'id': 'doc:0', 'text': 'Joining Slack Channels: You will receive an invite via email. Be sure to join relevant channels to stay informed and engaged.'})] \n",
            "\n",
            "start=82 end=107 text='team-building activities.' sources=[DocumentSource(type='document', id='doc:1', document={'id': 'doc:1', 'text': 'Team-Building Activities: We foster team spirit with monthly outings and weekly game nights. Feel free to suggest new activity ideas anytime!'})] \n",
            "\n",
            "start=117 end=144 text='receive an invite via email' sources=[DocumentSource(type='document', id='doc:0', document={'id': 'doc:0', 'text': 'Joining Slack Channels: You will receive an invite via email. Be sure to join relevant channels to stay informed and engaged.'})] \n",
            "\n",
            "start=148 end=170 text='join relevant channels' sources=[DocumentSource(type='document', id='doc:0', document={'id': 'doc:0', 'text': 'Joining Slack Channels: You will receive an invite via email. Be sure to join relevant channels to stay informed and engaged.'})] \n",
            "\n",
            "start=174 end=200 text='stay informed and engaged.' sources=[DocumentSource(type='document', id='doc:0', document={'id': 'doc:0', 'text': 'Joining Slack Channels: You will receive an invite via email. Be sure to join relevant channels to stay informed and engaged.'})] \n",
            "\n",
            "start=211 end=249 text='monthly outings and weekly game nights' sources=[DocumentSource(type='document', id='doc:1', document={'id': 'doc:1', 'text': 'Team-Building Activities: We foster team spirit with monthly outings and weekly game nights. Feel free to suggest new activity ideas anytime!'})] \n",
            "\n",
            "start=253 end=272 text='foster team spirit.' sources=[DocumentSource(type='document', id='doc:1', document={'id': 'doc:1', 'text': 'Team-Building Activities: We foster team spirit with monthly outings and weekly game nights. Feel free to suggest new activity ideas anytime!'})] \n",
            "\n",
            "start=281 end=320 text='suggest new activity ideas at any time.' sources=[DocumentSource(type='document', id='doc:1', document={'id': 'doc:1', 'text': 'Team-Building Activities: We foster team spirit with monthly outings and weekly game nights. Feel free to suggest new activity ideas anytime!'})] \n",
            "\n"
          ]
        }
      ],
      "source": [
        "# Generate the response\n",
        "response = co.chat(model=\"command-r-plus-08-2024\",\n",
        "                   messages=[{'role': 'user', 'content': query}],\n",
        "                   documents=reranked_documents)\n",
        "\n",
        "# Display the response\n",
        "print(response.message.content[0].text)\n",
        "\n",
        "# Display the citations and source documents\n",
        "if response.message.citations:\n",
        "    print(\"\\nCITATIONS:\")\n",
        "    for citation in response.message.citations:\n",
        "        print(citation, \"\\n\")"
      ]
    },
    {
      "cell_type": "markdown",
      "metadata": {
        "id": "OJk5lQe35zN_"
      },
      "source": [
        "# Agents with Tool Use"
      ]
    },
    {
      "cell_type": "markdown",
      "metadata": {
        "id": "4wJ7Awpn5zOA"
      },
      "source": [
        "Tool use extends the ideas from RAG, where external systems are used to guide the response of an LLM, but by leveraging a much bigger set of tools than what’s possible with RAG. The concept of tool use leverages LLMs' useful feature of being able to act as a reasoning and decision-making engine.\n",
        "\n",
        "While RAG enables applications that can *answer questions*, tool use enables those that can *automate tasks*.\n",
        "\n",
        "Tool use also enables developers to build agentic applications that can take actions, that is, doing both read and write operations on an external system.\n",
        "\n",
        "In this tutorial, you'll learn about:\n",
        "- Creating tools\n",
        "- Tool planning and calling\n",
        "- Tool execution\n",
        "- Response and citation generation\n",
        "- Multi-step tool use\n",
        "\n",
        "You'll learn these by building an onboarding assistant for new hires."
      ]
    },
    {
      "cell_type": "markdown",
      "metadata": {
        "id": "qfPrGaeJ5zOB"
      },
      "source": [
        "## Setup\n",
        "\n",
        "To get started, first we need to install the `cohere` library and create a Cohere client."
      ]
    },
    {
      "cell_type": "code",
      "execution_count": null,
      "metadata": {
        "id": "Ka73Hc8z5zOC"
      },
      "outputs": [],
      "source": [
        "\n",
        "# pip install cohere\n",
        "\n",
        "import cohere\n",
        "import json\n",
        "import os\n",
        "\n",
        "co = cohere.ClientV2(api_key=os.environ[\"COHERE_API_KEY\"]) # Get your free API key: https://dashboard.cohere.com/api-keys"
      ]
    },
    {
      "cell_type": "markdown",
      "metadata": {
        "id": "xPZAFdtE5zOC"
      },
      "source": [
        "## Creating tools"
      ]
    },
    {
      "cell_type": "markdown",
      "metadata": {
        "id": "je1hqkWj5zOD"
      },
      "source": [
        "The pre-requisite, before we can run a tool use workflow, is to set up the tools. Let's create three tools:\n",
        "- `search_faqs`: A tool for searching the FAQs. For simplicity, we'll not implement any retrieval logic, but we'll simply pass a list of pre-defined documents, which are the FAQ documents we had used in the Text Embeddings section.\n",
        "- `search_emails`: A tool for searching the emails. Same as above, we'll simply pass a list of pre-defined emails from the Reranking section.\n",
        "- `create_calendar_event`: A tool for creating new calendar events. Again, for simplicity, we'll not implement actual event bookings, but will return a mock success event. In practice, we can connect to a calendar service API and implement all the necessary logic here.\n",
        "\n",
        "Here, we are defining a Python function for each tool, but more broadly, the tool can be any function or service that can receive and send objects."
      ]
    },
    {
      "cell_type": "code",
      "execution_count": null,
      "metadata": {
        "id": "v0gWtBY65zOD"
      },
      "outputs": [],
      "source": [
        "# Create the tools\n",
        "def search_faqs(query):\n",
        "    faqs = [\n",
        "        {\"text\": \"Reimbursing Travel Expenses: Easily manage your travel expenses by submitting them through our finance tool. Approvals are prompt and straightforward.\"},\n",
        "        {\"text\": \"Working from Abroad: Working remotely from another country is possible. Simply coordinate with your manager and ensure your availability during core hours.\"}\n",
        "    ]\n",
        "    return  faqs\n",
        "\n",
        "def search_emails(query):\n",
        "    emails = [\n",
        "        {\"from\": \"it@co1t.com\", \"to\": \"david@co1t.com\", \"date\": \"2024-06-24\", \"subject\": \"Setting Up Your IT Needs\", \"text\": \"Greetings! To ensure a seamless start, please refer to the attached comprehensive guide, which will assist you in setting up all your work accounts.\"},\n",
        "        {\"from\": \"john@co1t.com\", \"to\": \"david@co1t.com\", \"date\": \"2024-06-24\", \"subject\": \"First Week Check-In\", \"text\": \"Hello! I hope you're settling in well. Let's connect briefly tomorrow to discuss how your first week has been going. Also, make sure to join us for a welcoming lunch this Thursday at noon—it's a great opportunity to get to know your colleagues!\"}\n",
        "    ]\n",
        "    return  emails\n",
        "\n",
        "def create_calendar_event(date: str, time: str, duration: int):\n",
        "    # You can implement any logic here\n",
        "    return {\"is_success\": True,\n",
        "            \"message\": f\"Created a {duration} hour long event at {time} on {date}\"}\n",
        "\n",
        "functions_map = {\n",
        "    \"search_faqs\": search_faqs,\n",
        "    \"search_emails\": search_emails,\n",
        "    \"create_calendar_event\": create_calendar_event\n",
        "}"
      ]
    },
    {
      "cell_type": "markdown",
      "metadata": {
        "id": "mvVeQmoL5zOE"
      },
      "source": [
        "The second and final setup step is to define the tool schemas in a format that can be passed to the Chat endpoint. The schema must contain the following fields: `name`, `description`, and `parameters` in the format shown below.\n",
        "\n",
        "This schema informs the LLM about what the tool does, and the LLM decides whether to use a particular tool based on it. Therefore, the more descriptive and specific the schema, the more likely the LLM will make the right tool call decisions."
      ]
    },
    {
      "cell_type": "markdown",
      "metadata": {
        "id": "bJvoh-Ik5zOE"
      },
      "source": [
        "Further reading:\n",
        "- [Documentation on parameter types in tool use](https://docs.cohere.com/v2/docs/parameter-types-in-tool-use)"
      ]
    },
    {
      "cell_type": "code",
      "execution_count": null,
      "metadata": {
        "id": "uLvjMima5zOF"
      },
      "outputs": [],
      "source": [
        "# Define the tools\n",
        "tools = [\n",
        "    {\n",
        "        \"type\": \"function\",\n",
        "        \"function\": {\n",
        "            \"name\": \"search_faqs\",\n",
        "            \"description\": \"Given a user query, searches a company's frequently asked questions (FAQs) list and returns the most relevant matches to the query.\",\n",
        "            \"parameters\": {\n",
        "                \"type\": \"object\",\n",
        "                \"properties\": {\n",
        "                    \"query\": {\n",
        "                        \"type\": \"string\",\n",
        "                        \"description\": \"The query from the user\"\n",
        "                    }\n",
        "                },\n",
        "                \"required\": [\"query\"]\n",
        "            }\n",
        "        }\n",
        "    },\n",
        "    {\n",
        "        \"type\": \"function\",\n",
        "        \"function\": {\n",
        "            \"name\": \"search_emails\",\n",
        "            \"description\": \"Given a user query, searches a person's emails and returns the most relevant matches to the query.\",\n",
        "            \"parameters\": {\n",
        "                \"type\": \"object\",\n",
        "                \"properties\": {\n",
        "                    \"query\": {\n",
        "                        \"type\": \"string\",\n",
        "                        \"description\": \"The query from the user\"\n",
        "                    }\n",
        "                },\n",
        "                \"required\": [\"query\"]\n",
        "            }\n",
        "        }\n",
        "    },\n",
        "    {\n",
        "        \"type\": \"function\",\n",
        "        \"function\": {\n",
        "            \"name\": \"create_calendar_event\",\n",
        "            \"description\": \"Creates a new calendar event of the specified duration at the specified time and date. A new event cannot be created on the same time as an existing event.\",\n",
        "            \"parameters\": {\n",
        "                \"type\": \"object\",\n",
        "                \"properties\": {\n",
        "                    \"date\": {\n",
        "                        \"type\": \"string\",\n",
        "                        \"description\": \"the date on which the event starts, formatted as mm/dd/yy\"\n",
        "                    },\n",
        "                    \"time\": {\n",
        "                        \"type\": \"string\",\n",
        "                        \"description\": \"the time of the event, formatted using 24h military time formatting\"\n",
        "                    },\n",
        "                    \"duration\": {\n",
        "                        \"type\": \"number\",\n",
        "                        \"description\": \"the number of hours the event lasts for\"\n",
        "                    }\n",
        "                },\n",
        "                \"required\": [\"date\", \"time\", \"duration\"]\n",
        "            }\n",
        "        }\n",
        "    }\n",
        "]"
      ]
    },
    {
      "cell_type": "markdown",
      "metadata": {
        "id": "uulxFsaI5zOG"
      },
      "source": [
        "## Tool planning and calling"
      ]
    },
    {
      "cell_type": "markdown",
      "metadata": {
        "id": "uRlU9NM15zOG"
      },
      "source": [
        "We can now run the tool use workflow. We can think of a tool use system as consisting of four components:\n",
        "- The user\n",
        "- The application\n",
        "- The LLM\n",
        "- The tools\n",
        "\n",
        "At its most basic, these four components interact in a workflow through four steps:\n",
        "- **Step 1: Get user message** – The LLM gets the user message (via the application)\n",
        "- **Step 2: Tool planning and calling** – The LLM makes a decision on the tools to call (if any) and generates - the tool calls\n",
        "- **Step 3: Tool execution** - The application executes the tools and the results are sent to the LLM\n",
        "- **Step 4: Response and citation generation** – The LLM generates the response and citations to back to the user"
      ]
    },
    {
      "cell_type": "code",
      "execution_count": null,
      "metadata": {
        "id": "I_JYxpYI5zOG",
        "outputId": "14ea86cb-6cf8-4bb5-b240-557adf677040"
      },
      "outputs": [
        {
          "name": "stdout",
          "output_type": "stream",
          "text": [
            "Tool plan:\n",
            "I will search the emails for any messages about getting set up with IT. \n",
            "\n",
            "Tool calls:\n",
            "Tool name: search_emails | Parameters: {\"query\":\"getting setup with IT\"}\n"
          ]
        }
      ],
      "source": [
        "# Create custom system message\n",
        "system_message = \"\"\"## Task and Context\n",
        "You are an assistant who assist new employees of Co1t with their first week. You respond to their questions and assist them with their needs. Today is Monday, June 24, 2024\"\"\"\n",
        "\n",
        "\n",
        "# Step 1: Get user message\n",
        "message = \"Is there any message about getting setup with IT?\"\n",
        "\n",
        "# Add the system and user messages to the chat history\n",
        "messages = [\n",
        "    {\"role\": \"system\", \"content\": system_message},\n",
        "    {\"role\": \"user\", \"content\": message},\n",
        "]\n",
        "\n",
        "# Step 2: Tool planning and calling\n",
        "response = co.chat(model=\"command-r-plus-08-2024\", messages=messages, tools=tools)\n",
        "\n",
        "if response.message.tool_calls:\n",
        "    print(\"Tool plan:\")\n",
        "    print(response.message.tool_plan, \"\\n\")\n",
        "    print(\"Tool calls:\")\n",
        "    for tc in response.message.tool_calls:\n",
        "        print(f\"Tool name: {tc.function.name} | Parameters: {tc.function.arguments}\")\n",
        "\n",
        "    # Append tool calling details to the chat history\n",
        "    messages.append(\n",
        "        {\n",
        "            \"role\": \"assistant\",\n",
        "            \"tool_calls\": response.message.tool_calls,\n",
        "            \"tool_plan\": response.message.tool_plan,\n",
        "        }\n",
        "    )"
      ]
    },
    {
      "cell_type": "markdown",
      "metadata": {
        "id": "ZSQ0-wSA5zOH"
      },
      "source": [
        "Given three tools to choose from, the model is able to pick the right tool (in this case, `search_emails`) based on what the user is asking for.\n",
        "\n",
        "Also, notice that the model first generates a plan about what it should do (\"I will do ...\") before actually generating the tool call(s)."
      ]
    },
    {
      "cell_type": "markdown",
      "metadata": {
        "id": "dVQ4yjZS5zOH"
      },
      "source": [
        "# Tool execution"
      ]
    },
    {
      "cell_type": "code",
      "execution_count": null,
      "metadata": {
        "id": "kl_Gmqw55zOH",
        "outputId": "2dfd0fab-585c-438a-cafa-ec302386e2e6"
      },
      "outputs": [
        {
          "name": "stdout",
          "output_type": "stream",
          "text": [
            "Tool results:\n",
            "{'type': 'document', 'document': {'id': '0', 'data': {'from': 'it@co1t.com', 'to': 'david@co1t.com', 'date': '2024-06-24', 'subject': 'Setting Up Your IT Needs', 'text': 'Greetings! To ensure a seamless start, please refer to the attached comprehensive guide, which will assist you in setting up all your work accounts.'}}}\n",
            "{'type': 'document', 'document': {'id': '1', 'data': {'from': 'john@co1t.com', 'to': 'david@co1t.com', 'date': '2024-06-24', 'subject': 'First Week Check-In', 'text': \"Hello! I hope you're settling in well. Let's connect briefly tomorrow to discuss how your first week has been going. Also, make sure to join us for a welcoming lunch this Thursday at noon—it's a great opportunity to get to know your colleagues!\"}}}\n"
          ]
        }
      ],
      "source": [
        "# Step 3: Tool execution\n",
        "for tc in response.message.tool_calls:\n",
        "    tool_result = functions_map[tc.function.name](**json.loads(tc.function.arguments))\n",
        "    tool_content = []\n",
        "    for idx, data in enumerate(tool_result):\n",
        "        tool_content.append({\"type\": \"document\", \"document\": {\"data\": json.dumps(data)}})\n",
        "        # Optional: add an \"id\" field in the \"document\" object, otherwise IDs are auto-generated\n",
        "    # Append tool results to the chat history\n",
        "    messages.append({\"role\": \"tool\", \"tool_call_id\": tc.id, \"content\": tool_content})\n",
        "\n",
        "print(\"Tool results:\")\n",
        "for result in tool_content:\n",
        "    print(result)"
      ]
    },
    {
      "cell_type": "markdown",
      "metadata": {
        "id": "VdW60-bD5zOH"
      },
      "source": [
        "## Response and citation generation"
      ]
    },
    {
      "cell_type": "code",
      "execution_count": null,
      "metadata": {
        "id": "8jnjsscF5zOH",
        "outputId": "bef9d51e-8dce-470e-f80a-6a5877bca1f2"
      },
      "outputs": [
        {
          "name": "stdout",
          "output_type": "stream",
          "text": [
            "Response:\n",
            "Yes, there is an email from it@co1t.com with the subject 'Setting Up Your IT Needs'. It says:\n",
            "> Greetings! To ensure a seamless start, please refer to the attached comprehensive guide, which will assist you in setting up all your work accounts.\n",
            "==================================================\n",
            "\n",
            "CITATIONS:\n",
            "start=28 end=39 text='it@co1t.com' sources=[ToolSource(type='tool', id='0', tool_output={'date': '2024-06-24', 'from': 'it@co1t.com', 'subject': 'Setting Up Your IT Needs', 'text': 'Greetings! To ensure a seamless start, please refer to the attached comprehensive guide, which will assist you in setting up all your work accounts.', 'to': 'david@co1t.com'})] \n",
            "\n",
            "start=57 end=83 text=\"'Setting Up Your IT Needs'\" sources=[ToolSource(type='tool', id='0', tool_output={'date': '2024-06-24', 'from': 'it@co1t.com', 'subject': 'Setting Up Your IT Needs', 'text': 'Greetings! To ensure a seamless start, please refer to the attached comprehensive guide, which will assist you in setting up all your work accounts.', 'to': 'david@co1t.com'})] \n",
            "\n",
            "start=96 end=244 text='Greetings! To ensure a seamless start, please refer to the attached comprehensive guide, which will assist you in setting up all your work accounts.' sources=[ToolSource(type='tool', id='0', tool_output={'date': '2024-06-24', 'from': 'it@co1t.com', 'subject': 'Setting Up Your IT Needs', 'text': 'Greetings! To ensure a seamless start, please refer to the attached comprehensive guide, which will assist you in setting up all your work accounts.', 'to': 'david@co1t.com'})] \n",
            "\n"
          ]
        }
      ],
      "source": [
        "# Step 4: Response and citation generation\n",
        "response = co.chat(\n",
        "    model=\"command-r-plus-08-2024\",\n",
        "    messages=messages,\n",
        "    tools=tools\n",
        ")\n",
        "\n",
        "# Append assistant response to the chat history\n",
        "messages.append({\"role\": \"assistant\", \"content\": response.message.content[0].text})\n",
        "\n",
        "# Print final response\n",
        "print(\"Response:\")\n",
        "print(response.message.content[0].text)\n",
        "print(\"=\"*50)\n",
        "\n",
        "# Print citations (if any)\n",
        "if response.message.citations:\n",
        "    print(\"\\nCITATIONS:\")\n",
        "    for citation in response.message.citations:\n",
        "        print(citation, \"\\n\")"
      ]
    },
    {
      "cell_type": "markdown",
      "metadata": {
        "id": "JFKV-tgA5zOH"
      },
      "source": [
        "# Multi-step tool use"
      ]
    },
    {
      "cell_type": "markdown",
      "metadata": {
        "id": "c5JzxOU05zOH"
      },
      "source": [
        "The model can execute more complex tasks in tool use – tasks that require tool calls to happen in a sequence. This is referred to as \"multi-step\" tool use.\n",
        "\n",
        "Let's create a function to called `run_assistant` to implement these steps, and along the way, print out the key events and messages. Optionally, this function also accepts the chat history as an argument to keep the state in a multi-turn conversation."
      ]
    },
    {
      "cell_type": "code",
      "execution_count": null,
      "metadata": {
        "id": "Us3L-nng5zOI"
      },
      "outputs": [],
      "source": [
        "model = \"command-r-plus-08-2024\"\n",
        "\n",
        "system_message = \"\"\"## Task and Context\n",
        "You are an assistant who assists new employees of Co1t with their first week. You respond to their questions and assist them with their needs. Today is Monday, June 24, 2024\"\"\"\n",
        "\n",
        "\n",
        "def run_assistant(query, messages=None):\n",
        "    if messages is None:\n",
        "        messages = []\n",
        "\n",
        "    if \"system\" not in {m.get(\"role\") for m in messages}:\n",
        "        messages.append({\"role\": \"system\", \"content\": system_message})\n",
        "\n",
        "    # Step 1: get user message\n",
        "    print(f\"Question:\\n{query}\")\n",
        "    print(\"=\" * 50)\n",
        "\n",
        "    messages.append({\"role\": \"user\", \"content\": query})\n",
        "\n",
        "    # Step 2: Generate tool calls (if any)\n",
        "    response = co.chat(model=model, messages=messages, tools=tools)\n",
        "\n",
        "    while response.message.tool_calls:\n",
        "\n",
        "        print(\"Tool plan:\")\n",
        "        print(response.message.tool_plan, \"\\n\")\n",
        "        print(\"Tool calls:\")\n",
        "        for tc in response.message.tool_calls:\n",
        "            print(\n",
        "                f\"Tool name: {tc.function.name} | Parameters: {tc.function.arguments}\"\n",
        "            )\n",
        "        print(\"=\" * 50)\n",
        "\n",
        "        messages.append(\n",
        "            {\n",
        "                \"role\": \"assistant\",\n",
        "                \"tool_calls\": response.message.tool_calls,\n",
        "                \"tool_plan\": response.message.tool_plan,\n",
        "            }\n",
        "        )\n",
        "\n",
        "        # Step 3: Get tool results\n",
        "        for idx, tc in enumerate(response.message.tool_calls):\n",
        "            tool_result = functions_map[tc.function.name](\n",
        "                **json.loads(tc.function.arguments)\n",
        "            )\n",
        "            tool_content = []\n",
        "            for idx, data in enumerate(tool_result):\n",
        "                tool_content.append({\"type\": \"document\", \"document\": {\"data\": json.dumps(data)}})\n",
        "                # Optional: add an \"id\" field in the \"document\" object, otherwise IDs are auto-generated\n",
        "            messages.append(\n",
        "                {\"role\": \"tool\", \"tool_call_id\": tc.id, \"content\": tool_content}\n",
        "            )\n",
        "\n",
        "        # Step 4: Generate response and citations\n",
        "        response = co.chat(model=model, messages=messages, tools=tools)\n",
        "\n",
        "    messages.append({\"role\": \"assistant\", \"content\": response.message.content[0].text})\n",
        "\n",
        "    # Print final response\n",
        "    print(\"Response:\")\n",
        "    print(response.message.content[0].text)\n",
        "    print(\"=\" * 50)\n",
        "\n",
        "    # Print citations (if any)\n",
        "    if response.message.citations:\n",
        "        print(\"\\nCITATIONS:\")\n",
        "        for citation in response.message.citations:\n",
        "            print(citation, \"\\n\")\n",
        "\n",
        "    return messages"
      ]
    },
    {
      "cell_type": "markdown",
      "metadata": {
        "id": "gLIW_3h35zOI"
      },
      "source": [
        "To illustrate the concept of multi-step tool user, let's ask the assistant to block time for any lunch invites received in the email.\n",
        "\n",
        "This requires tasks to happen over multiple steps in a sequence. Here, we see the assistant running these steps:\n",
        "- First, it calls the `search_emails` tool to find any lunch invites, which it found one.\n",
        "- Next, it calls the `create_calendar_event` tool to create an event to block the person's calendar on the day mentioned by the email.\n",
        "\n",
        "This is also an example of tool use enabling a write operation instead of just a read operation that we saw with RAG."
      ]
    },
    {
      "cell_type": "code",
      "execution_count": null,
      "metadata": {
        "id": "i3Mcxtud5zOI",
        "outputId": "e4a1ad6f-8a8e-40a3-9111-6b51a4caaa98"
      },
      "outputs": [
        {
          "name": "stdout",
          "output_type": "stream",
          "text": [
            "Question:\n",
            "Can you check if there are any lunch invites, and for those days, create a one-hour event on my calendar at 12PM.\n",
            "==================================================\n",
            "Tool plan:\n",
            "I will first search the user's emails for lunch invites. Then, I will create a one-hour event on the user's calendar at 12PM for each day that has a lunch invite. \n",
            "\n",
            "Tool calls:\n",
            "Tool name: search_emails | Parameters: {\"query\":\"lunch invite\"}\n",
            "==================================================\n",
            "Tool plan:\n",
            "I found one email containing a lunch invite for Thursday at noon. I will now create a one-hour event on the user's calendar for that day. \n",
            "\n",
            "Tool calls:\n",
            "Tool name: create_calendar_event | Parameters: {\"date\":\"06/27/24\",\"duration\":1,\"time\":\"12:00\"}\n",
            "==================================================\n",
            "Response:\n",
            "I found one lunch invite for Thursday at noon. I have created a one-hour event on your calendar for that day.\n",
            "==================================================\n",
            "\n",
            "CITATIONS:\n",
            "start=29 end=46 text='Thursday at noon.' sources=[ToolSource(type='tool', id='1', tool_output={'date': '2024-06-24', 'from': 'john@co1t.com', 'subject': 'First Week Check-In', 'text': \"Hello! I hope you're settling in well. Let's connect briefly tomorrow to discuss how your first week has been going. Also, make sure to join us for a welcoming lunch this Thursday at noon—it's a great opportunity to get to know your colleagues!\", 'to': 'david@co1t.com'})] \n",
            "\n",
            "start=64 end=109 text='one-hour event on your calendar for that day.' sources=[ToolSource(type='tool', id='0', tool_output={'content': 'is_success'}), ToolSource(type='tool', id='1', tool_output={'date': '2024-06-24', 'from': 'john@co1t.com', 'subject': 'First Week Check-In', 'text': \"Hello! I hope you're settling in well. Let's connect briefly tomorrow to discuss how your first week has been going. Also, make sure to join us for a welcoming lunch this Thursday at noon—it's a great opportunity to get to know your colleagues!\", 'to': 'david@co1t.com'})] \n",
            "\n"
          ]
        }
      ],
      "source": [
        "messages = run_assistant(\"Can you check if there are any lunch invites, and for those days, create a one-hour event on my calendar at 12PM.\")"
      ]
    },
    {
      "cell_type": "markdown",
      "metadata": {
        "id": "CeYY1I7t5zOI"
      },
      "source": [
        "In this tutorial, you learned about:\n",
        "- How to create tools\n",
        "- How tool planning and calling happens\n",
        "- How tool execution happens\n",
        "- How to generate the response and citations\n",
        "- How to run tool use in a multi-step scenario\n",
        "\n",
        "And that concludes our 7-part Cohere tutorial. We hope that they have provided you with a foundational understanding of the Cohere API, the available models and endpoints, and the types of use cases that you can build with them.\n",
        "\n",
        "To continue your learning, check out:\n",
        "- [LLM University - A range of courses and step-by-step guides to help you start building](https://cohere.com/llmu)\n",
        "- [Cookbooks - A collection of basic to advanced example applications](https://docs.cohere.com/page/cookbooks)\n",
        "- [Cohere's documentation](https://docs.cohere.com/docs/the-cohere-platform)\n",
        "- [The Cohere API reference](https://docs.cohere.com/reference/about)"
      ]
    }
  ],
  "metadata": {
    "kernelspec": {
      "display_name": "base",
      "language": "python",
      "name": "base"
    },
    "language_info": {
      "codemirror_mode": {
        "name": "ipython",
        "version": 3
      },
      "file_extension": ".py",
      "mimetype": "text/x-python",
      "name": "python",
      "nbconvert_exporter": "python",
      "pygments_lexer": "ipython3",
      "version": "3.11.4"
    },
    "colab": {
      "provenance": [],
      "toc_visible": true
    }
  },
  "nbformat": 4,
  "nbformat_minor": 0
}